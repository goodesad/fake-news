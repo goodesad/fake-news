{
   "cells": [
    {
     "cell_type": "code",
     "execution_count": 1,
     "metadata": {},
     "outputs": [],
     "source": [
      "import pandas as pd\n",
      "import os\n",
      "import string\n",
      "from nltk.stem import WordNetLemmatizer as wn\n",
      "from nltk.corpus import stopwords\n",
      "from nltk.tokenize import word_tokenize\n",
      "from sklearn.preprocessing import LabelEncoder as le"
     ]
    },
    {
     "cell_type": "code",
     "execution_count": 2,
     "metadata": {},
     "outputs": [],
     "source": [
      "csv_path = '../raw_data'\n",
      "newsdf = pd.read_csv(os.path.join(csv_path, 'news.csv'))"
     ]
    },
    {
     "cell_type": "code",
     "execution_count": 3,
     "metadata": {},
     "outputs": [
      {
       "data": {
        "text/html": [
         "<div>\n",
         "<style scoped>\n",
         "    .dataframe tbody tr th:only-of-type {\n",
         "        vertical-align: middle;\n",
         "    }\n",
         "\n",
         "    .dataframe tbody tr th {\n",
         "        vertical-align: top;\n",
         "    }\n",
         "\n",
         "    .dataframe thead th {\n",
         "        text-align: right;\n",
         "    }\n",
         "</style>\n",
         "<table border=\"1\" class=\"dataframe\">\n",
         "  <thead>\n",
         "    <tr style=\"text-align: right;\">\n",
         "      <th></th>\n",
         "      <th>Unnamed: 0</th>\n",
         "      <th>title</th>\n",
         "      <th>text</th>\n",
         "      <th>label</th>\n",
         "    </tr>\n",
         "  </thead>\n",
         "  <tbody>\n",
         "    <tr>\n",
         "      <th>0</th>\n",
         "      <td>8476</td>\n",
         "      <td>You Can Smell Hillary’s Fear</td>\n",
         "      <td>Daniel Greenfield, a Shillman Journalism Fello...</td>\n",
         "      <td>FAKE</td>\n",
         "    </tr>\n",
         "    <tr>\n",
         "      <th>1</th>\n",
         "      <td>10294</td>\n",
         "      <td>Watch The Exact Moment Paul Ryan Committed Pol...</td>\n",
         "      <td>Google Pinterest Digg Linkedin Reddit Stumbleu...</td>\n",
         "      <td>FAKE</td>\n",
         "    </tr>\n",
         "    <tr>\n",
         "      <th>2</th>\n",
         "      <td>3608</td>\n",
         "      <td>Kerry to go to Paris in gesture of sympathy</td>\n",
         "      <td>U.S. Secretary of State John F. Kerry said Mon...</td>\n",
         "      <td>REAL</td>\n",
         "    </tr>\n",
         "    <tr>\n",
         "      <th>3</th>\n",
         "      <td>10142</td>\n",
         "      <td>Bernie supporters on Twitter erupt in anger ag...</td>\n",
         "      <td>— Kaydee King (@KaydeeKing) November 9, 2016 T...</td>\n",
         "      <td>FAKE</td>\n",
         "    </tr>\n",
         "    <tr>\n",
         "      <th>4</th>\n",
         "      <td>875</td>\n",
         "      <td>The Battle of New York: Why This Primary Matters</td>\n",
         "      <td>It's primary day in New York and front-runners...</td>\n",
         "      <td>REAL</td>\n",
         "    </tr>\n",
         "    <tr>\n",
         "      <th>...</th>\n",
         "      <td>...</td>\n",
         "      <td>...</td>\n",
         "      <td>...</td>\n",
         "      <td>...</td>\n",
         "    </tr>\n",
         "    <tr>\n",
         "      <th>6330</th>\n",
         "      <td>4490</td>\n",
         "      <td>State Department says it can't find emails fro...</td>\n",
         "      <td>The State Department told the Republican Natio...</td>\n",
         "      <td>REAL</td>\n",
         "    </tr>\n",
         "    <tr>\n",
         "      <th>6331</th>\n",
         "      <td>8062</td>\n",
         "      <td>The ‘P’ in PBS Should Stand for ‘Plutocratic’ ...</td>\n",
         "      <td>The ‘P’ in PBS Should Stand for ‘Plutocratic’ ...</td>\n",
         "      <td>FAKE</td>\n",
         "    </tr>\n",
         "    <tr>\n",
         "      <th>6332</th>\n",
         "      <td>8622</td>\n",
         "      <td>Anti-Trump Protesters Are Tools of the Oligarc...</td>\n",
         "      <td>Anti-Trump Protesters Are Tools of the Oligar...</td>\n",
         "      <td>FAKE</td>\n",
         "    </tr>\n",
         "    <tr>\n",
         "      <th>6333</th>\n",
         "      <td>4021</td>\n",
         "      <td>In Ethiopia, Obama seeks progress on peace, se...</td>\n",
         "      <td>ADDIS ABABA, Ethiopia —President Obama convene...</td>\n",
         "      <td>REAL</td>\n",
         "    </tr>\n",
         "    <tr>\n",
         "      <th>6334</th>\n",
         "      <td>4330</td>\n",
         "      <td>Jeb Bush Is Suddenly Attacking Trump. Here's W...</td>\n",
         "      <td>Jeb Bush Is Suddenly Attacking Trump. Here's W...</td>\n",
         "      <td>REAL</td>\n",
         "    </tr>\n",
         "  </tbody>\n",
         "</table>\n",
         "<p>6335 rows × 4 columns</p>\n",
         "</div>"
        ],
        "text/plain": [
         "      Unnamed: 0                                              title  \\\n",
         "0           8476                       You Can Smell Hillary’s Fear   \n",
         "1          10294  Watch The Exact Moment Paul Ryan Committed Pol...   \n",
         "2           3608        Kerry to go to Paris in gesture of sympathy   \n",
         "3          10142  Bernie supporters on Twitter erupt in anger ag...   \n",
         "4            875   The Battle of New York: Why This Primary Matters   \n",
         "...          ...                                                ...   \n",
         "6330        4490  State Department says it can't find emails fro...   \n",
         "6331        8062  The ‘P’ in PBS Should Stand for ‘Plutocratic’ ...   \n",
         "6332        8622  Anti-Trump Protesters Are Tools of the Oligarc...   \n",
         "6333        4021  In Ethiopia, Obama seeks progress on peace, se...   \n",
         "6334        4330  Jeb Bush Is Suddenly Attacking Trump. Here's W...   \n",
         "\n",
         "                                                   text label  \n",
         "0     Daniel Greenfield, a Shillman Journalism Fello...  FAKE  \n",
         "1     Google Pinterest Digg Linkedin Reddit Stumbleu...  FAKE  \n",
         "2     U.S. Secretary of State John F. Kerry said Mon...  REAL  \n",
         "3     — Kaydee King (@KaydeeKing) November 9, 2016 T...  FAKE  \n",
         "4     It's primary day in New York and front-runners...  REAL  \n",
         "...                                                 ...   ...  \n",
         "6330  The State Department told the Republican Natio...  REAL  \n",
         "6331  The ‘P’ in PBS Should Stand for ‘Plutocratic’ ...  FAKE  \n",
         "6332   Anti-Trump Protesters Are Tools of the Oligar...  FAKE  \n",
         "6333  ADDIS ABABA, Ethiopia —President Obama convene...  REAL  \n",
         "6334  Jeb Bush Is Suddenly Attacking Trump. Here's W...  REAL  \n",
         "\n",
         "[6335 rows x 4 columns]"
        ]
       },
       "execution_count": 3,
       "metadata": {},
       "output_type": "execute_result"
      }
     ],
     "source": [
      "newsdf"
     ]
    },
    {
     "cell_type": "code",
     "execution_count": 4,
     "metadata": {},
     "outputs": [],
     "source": [
      "newsdf.tail(50).to_csv(os.path.join(csv_path, 'newsdf.csv'),sep=';') # just to see some rows on excel"
     ]
    },
    {
     "cell_type": "code",
     "execution_count": 5,
     "metadata": {},
     "outputs": [],
     "source": [
      "newsdf['full'] = newsdf['title'] + ' ' + newsdf['text'] # create a new column with full text"
     ]
    },
    {
     "cell_type": "code",
     "execution_count": 6,
     "metadata": {},
     "outputs": [
      {
       "data": {
        "text/plain": [
         "REAL    3171\n",
         "FAKE    3164\n",
         "Name: label, dtype: int64"
        ]
       },
       "execution_count": 6,
       "metadata": {},
       "output_type": "execute_result"
      }
     ],
     "source": [
      "newsdf['label'].value_counts()"
     ]
    },
    {
     "cell_type": "code",
     "execution_count": 7,
     "metadata": {},
     "outputs": [],
     "source": [
      "newsdf.drop (\"Unnamed: 0\", axis = 1, inplace=True) # optional\n",
      "#newsdf.drop (\"title\", axis = 1, inplace=True)\n",
      "#newsdf.drop (\"text\", axis = 1, inplace=True)"
     ]
    },
    {
     "cell_type": "code",
     "execution_count": 8,
     "metadata": {},
     "outputs": [],
     "source": [
      "# Dividing in X and y\n",
      "X = newsdf['full']\n",
      "y = newsdf['label']"
     ]
    },
    {
     "cell_type": "code",
     "execution_count": 9,
     "metadata": {},
     "outputs": [],
     "source": [
      "def lematize (words):\n",
      "    for index, word in enumerate (words):\n",
      "        words[index] = wn().lemmatize(word, pos='v')\n",
      "    for index, word in enumerate (words):\n",
      "        words[index] = wn().lemmatize(word, pos='r')\n",
      "    for index, word in enumerate (words):\n",
      "        words[index] = wn().lemmatize(word, pos='a')\n",
      "    for index, word in enumerate (words):\n",
      "        words[index] = wn().lemmatize(word, pos='n')\n",
      "    for index, word in enumerate (words):\n",
      "        words[index] = wn().lemmatize(word, pos='s')\n",
      "    return ' '.join(words)"
     ]
    },
    {
     "cell_type": "code",
     "execution_count": 10,
     "metadata": {},
     "outputs": [],
     "source": [
      "stop_words = stopwords.words('english')"
     ]
    },
    {
     "cell_type": "code",
     "execution_count": 11,
     "metadata": {},
     "outputs": [],
     "source": [
      "def preprocessing(sentence):\n",
      "    sentence = sentence.strip()\n",
      "    \n",
      "    sentence = sentence.lower()\n",
      "    \n",
      "    sentence = ''.join(char for char in sentence if not char.isdigit())\n",
      "    \n",
      "    for punctuation in string.punctuation:\n",
      "        sentence = sentence.replace(punctuation, ' ') \n",
      "    \n",
      "    sentence = sentence.strip()\n",
      "    \n",
      "    sentence = word_tokenize (sentence)\n",
      "    for word in sentence:\n",
      "        if word in stop_words:\n",
      "            sentence.remove(word)\n",
      "            \n",
      "    lematize(sentence)\n",
      "            \n",
      "    return ' '.join(sentence)"
     ]
    },
    {
     "cell_type": "code",
     "execution_count": 12,
     "metadata": {},
     "outputs": [],
     "source": [
      "X = X.str.replace (\"’\", \"'\", regex = False)\n",
      "X = X.str.replace (\"‘\", \"'\", regex = False)\n",
      "X = X.str.replace ('“', '\"', regex = False)\n",
      "X = X.str.replace ('”', '\"', regex = False)"
     ]
    },
    {
     "cell_type": "code",
     "execution_count": 13,
     "metadata": {},
     "outputs": [],
     "source": [
      "X_proc = X.apply(preprocessing)"
     ]
    },
    {
     "cell_type": "code",
     "execution_count": 14,
     "metadata": {},
     "outputs": [
      {
       "data": {
        "text/plain": [
         "0       smell hillary fear daniel greenfield shillman ...\n",
         "1       watch exact moment paul ryan commit political ...\n",
         "2       kerry go paris gesture sympathy u secretary st...\n",
         "3       bernie supporter twitter erupt anger dnc try w...\n",
         "4       battle new york primary matter primary day new...\n",
         "                              ...                        \n",
         "6330    state department say can find email clinton sp...\n",
         "6331    p pb stand plutocratic pentagon p pb stand plu...\n",
         "6332    anti trump protester tool oligarchy informatio...\n",
         "6333    ethiopia obama seek progress peace security ea...\n",
         "6334    jeb bush suddenly attack trump matter jeb bush...\n",
         "Name: full, Length: 6335, dtype: object"
        ]
       },
       "execution_count": 14,
       "metadata": {},
       "output_type": "execute_result"
      }
     ],
     "source": [
      "X_proc # to see final product of preprocessing"
     ]
    },
    {
     "cell_type": "code",
     "execution_count": 15,
     "metadata": {},
     "outputs": [],
     "source": [
      "y_enc = pd.Series(le().fit_transform(y))"
     ]
    },
    {
     "cell_type": "code",
     "execution_count": 16,
     "metadata": {},
     "outputs": [
      {
       "data": {
        "text/plain": [
         "0       0\n",
         "1       0\n",
         "2       1\n",
         "3       0\n",
         "4       1\n",
         "       ..\n",
         "6330    1\n",
         "6331    0\n",
         "6332    0\n",
         "6333    1\n",
         "6334    1\n",
         "Length: 6335, dtype: int64"
        ]
       },
       "execution_count": 16,
       "metadata": {},
       "output_type": "execute_result"
      }
     ],
     "source": [
      "y_enc # to see final product of encoding"
     ]
    },
    {
     "cell_type": "code",
     "execution_count": 18,
     "metadata": {},
     "outputs": [
      {
       "data": {
        "text/html": [
         "<div>\n",
         "<style scoped>\n",
         "    .dataframe tbody tr th:only-of-type {\n",
         "        vertical-align: middle;\n",
         "    }\n",
         "\n",
         "    .dataframe tbody tr th {\n",
         "        vertical-align: top;\n",
         "    }\n",
         "\n",
         "    .dataframe thead th {\n",
         "        text-align: right;\n",
         "    }\n",
         "</style>\n",
         "<table border=\"1\" class=\"dataframe\">\n",
         "  <thead>\n",
         "    <tr style=\"text-align: right;\">\n",
         "      <th></th>\n",
         "      <th>text</th>\n",
         "      <th>target</th>\n",
         "    </tr>\n",
         "  </thead>\n",
         "  <tbody>\n",
         "    <tr>\n",
         "      <th>0</th>\n",
         "      <td>smell hillary fear daniel greenfield shillman ...</td>\n",
         "      <td>0</td>\n",
         "    </tr>\n",
         "    <tr>\n",
         "      <th>1</th>\n",
         "      <td>watch exact moment paul ryan commit political ...</td>\n",
         "      <td>0</td>\n",
         "    </tr>\n",
         "    <tr>\n",
         "      <th>2</th>\n",
         "      <td>kerry go paris gesture sympathy u secretary st...</td>\n",
         "      <td>1</td>\n",
         "    </tr>\n",
         "    <tr>\n",
         "      <th>3</th>\n",
         "      <td>bernie supporter twitter erupt anger dnc try w...</td>\n",
         "      <td>0</td>\n",
         "    </tr>\n",
         "    <tr>\n",
         "      <th>4</th>\n",
         "      <td>battle new york primary matter primary day new...</td>\n",
         "      <td>1</td>\n",
         "    </tr>\n",
         "    <tr>\n",
         "      <th>...</th>\n",
         "      <td>...</td>\n",
         "      <td>...</td>\n",
         "    </tr>\n",
         "    <tr>\n",
         "      <th>6330</th>\n",
         "      <td>state department say can find email clinton sp...</td>\n",
         "      <td>1</td>\n",
         "    </tr>\n",
         "    <tr>\n",
         "      <th>6331</th>\n",
         "      <td>p pb stand plutocratic pentagon p pb stand plu...</td>\n",
         "      <td>0</td>\n",
         "    </tr>\n",
         "    <tr>\n",
         "      <th>6332</th>\n",
         "      <td>anti trump protester tool oligarchy informatio...</td>\n",
         "      <td>0</td>\n",
         "    </tr>\n",
         "    <tr>\n",
         "      <th>6333</th>\n",
         "      <td>ethiopia obama seek progress peace security ea...</td>\n",
         "      <td>1</td>\n",
         "    </tr>\n",
         "    <tr>\n",
         "      <th>6334</th>\n",
         "      <td>jeb bush suddenly attack trump matter jeb bush...</td>\n",
         "      <td>1</td>\n",
         "    </tr>\n",
         "  </tbody>\n",
         "</table>\n",
         "<p>6335 rows × 2 columns</p>\n",
         "</div>"
        ],
        "text/plain": [
         "                                                   text  target\n",
         "0     smell hillary fear daniel greenfield shillman ...       0\n",
         "1     watch exact moment paul ryan commit political ...       0\n",
         "2     kerry go paris gesture sympathy u secretary st...       1\n",
         "3     bernie supporter twitter erupt anger dnc try w...       0\n",
         "4     battle new york primary matter primary day new...       1\n",
         "...                                                 ...     ...\n",
         "6330  state department say can find email clinton sp...       1\n",
         "6331  p pb stand plutocratic pentagon p pb stand plu...       0\n",
         "6332  anti trump protester tool oligarchy informatio...       0\n",
         "6333  ethiopia obama seek progress peace security ea...       1\n",
         "6334  jeb bush suddenly attack trump matter jeb bush...       1\n",
         "\n",
         "[6335 rows x 2 columns]"
        ]
       },
       "execution_count": 18,
       "metadata": {},
       "output_type": "execute_result"
      }
     ],
     "source": [
      "clean_data = pd.concat((X_proc, y_enc), axis=1)\n",
      "clean_data.columns = ['text', 'target']\n",
      "clean_data"
     ]
    },
    {
     "cell_type": "code",
     "execution_count": 19,
     "metadata": {},
     "outputs": [],
     "source": [
      "clean_data.to_csv(os.path.join(csv_path, 'clean_data.csv'))"
     ]
    }
   ],

   "metadata": {
    "kernelspec": {
     "display_name": "Python 3 (ipykernel)",
     "language": "python",
     "name": "python3"
    },
    "language_info": {
     "codemirror_mode": {
      "name": "ipython",
      "version": 3
     },
     "file_extension": ".py",
     "mimetype": "text/x-python",
     "name": "python",
     "nbconvert_exporter": "python",
     "pygments_lexer": "ipython3",
     "version": "3.8.12"
    },
    "toc": {
     "base_numbering": 1,
     "nav_menu": {},
     "number_sections": true,
     "sideBar": true,
     "skip_h1_title": false,
     "title_cell": "Table of Contents",
     "title_sidebar": "Contents",
     "toc_cell": false,
     "toc_position": {},
     "toc_section_display": true,
     "toc_window_display": false
    },
    "varInspector": {
     "cols": {
      "lenName": 16,
      "lenType": 16,
      "lenVar": 40
     },
     "kernels_config": {
      "python": {
       "delete_cmd_postfix": "",
       "delete_cmd_prefix": "del ",
       "library": "var_list.py",
       "varRefreshCmd": "print(var_dic_list())"
      },
      "r": {
       "delete_cmd_postfix": ") ",
       "delete_cmd_prefix": "rm(",
       "library": "var_list.r",
       "varRefreshCmd": "cat(var_dic_list()) "
      }
     },
     "types_to_exclude": [
      "module",
      "function",
      "builtin_function_or_method",
      "instance",
      "_Feature"
     ],
     "window_display": false
    },
    "vscode": {
     "interpreter": {
      "hash": "4c8d29ad4a57b60e7c69c11c287f45b1c4b6f75bb84d69d57cc64b446c16bbeb"
     }
    }
   },

   "nbformat": 4,
   "nbformat_minor": 2
  }
