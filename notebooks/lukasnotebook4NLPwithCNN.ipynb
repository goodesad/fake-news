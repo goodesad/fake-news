{
 "cells": [
  {
   "cell_type": "code",
   "execution_count": 3,
   "id": "bdd2b039",
   "metadata": {
    "id": "bdd2b039"
   },
   "outputs": [],
   "source": [
    "import os\n",
    "import pandas as pd"
   ]
  },
  {
   "cell_type": "code",
   "execution_count": 4,
   "id": "8e571287",
   "metadata": {
    "id": "8e571287"
   },
   "outputs": [],
   "source": [
    "csv_path = '../content/sample_data'\n",
    "cleandf = pd.read_csv(os.path.join(csv_path, 'clean_data.csv'))"
   ]
  },
  {
   "cell_type": "code",
   "execution_count": 5,
   "id": "3bdc31c3",
   "metadata": {
    "colab": {
     "base_uri": "https://localhost:8080/",
     "height": 424
    },
    "id": "3bdc31c3",
    "outputId": "74af4742-2e8a-48e9-9a87-c635c2a9ae0e"
   },
   "outputs": [
    {
     "data": {
      "text/html": [
       "\n",
       "  <div id=\"df-61308b5d-ff17-42a8-974e-86e5b0be0c96\">\n",
       "    <div class=\"colab-df-container\">\n",
       "      <div>\n",
       "<style scoped>\n",
       "    .dataframe tbody tr th:only-of-type {\n",
       "        vertical-align: middle;\n",
       "    }\n",
       "\n",
       "    .dataframe tbody tr th {\n",
       "        vertical-align: top;\n",
       "    }\n",
       "\n",
       "    .dataframe thead th {\n",
       "        text-align: right;\n",
       "    }\n",
       "</style>\n",
       "<table border=\"1\" class=\"dataframe\">\n",
       "  <thead>\n",
       "    <tr style=\"text-align: right;\">\n",
       "      <th></th>\n",
       "      <th>Unnamed: 0</th>\n",
       "      <th>text</th>\n",
       "      <th>target</th>\n",
       "    </tr>\n",
       "  </thead>\n",
       "  <tbody>\n",
       "    <tr>\n",
       "      <th>0</th>\n",
       "      <td>0</td>\n",
       "      <td>smell hillary fear daniel greenfield shillman ...</td>\n",
       "      <td>0</td>\n",
       "    </tr>\n",
       "    <tr>\n",
       "      <th>1</th>\n",
       "      <td>1</td>\n",
       "      <td>watch exact moment paul ryan commit political ...</td>\n",
       "      <td>0</td>\n",
       "    </tr>\n",
       "    <tr>\n",
       "      <th>2</th>\n",
       "      <td>2</td>\n",
       "      <td>kerry go paris gesture sympathy u secretary st...</td>\n",
       "      <td>1</td>\n",
       "    </tr>\n",
       "    <tr>\n",
       "      <th>3</th>\n",
       "      <td>3</td>\n",
       "      <td>bernie supporter twitter erupt anger dnc try w...</td>\n",
       "      <td>0</td>\n",
       "    </tr>\n",
       "    <tr>\n",
       "      <th>4</th>\n",
       "      <td>4</td>\n",
       "      <td>battle new york primary matter primary day new...</td>\n",
       "      <td>1</td>\n",
       "    </tr>\n",
       "    <tr>\n",
       "      <th>...</th>\n",
       "      <td>...</td>\n",
       "      <td>...</td>\n",
       "      <td>...</td>\n",
       "    </tr>\n",
       "    <tr>\n",
       "      <th>6330</th>\n",
       "      <td>6330</td>\n",
       "      <td>state department say can find email clinton sp...</td>\n",
       "      <td>1</td>\n",
       "    </tr>\n",
       "    <tr>\n",
       "      <th>6331</th>\n",
       "      <td>6331</td>\n",
       "      <td>p pb stand plutocratic pentagon p pb stand plu...</td>\n",
       "      <td>0</td>\n",
       "    </tr>\n",
       "    <tr>\n",
       "      <th>6332</th>\n",
       "      <td>6332</td>\n",
       "      <td>anti trump protester tool oligarchy informatio...</td>\n",
       "      <td>0</td>\n",
       "    </tr>\n",
       "    <tr>\n",
       "      <th>6333</th>\n",
       "      <td>6333</td>\n",
       "      <td>ethiopia obama seek progress peace security ea...</td>\n",
       "      <td>1</td>\n",
       "    </tr>\n",
       "    <tr>\n",
       "      <th>6334</th>\n",
       "      <td>6334</td>\n",
       "      <td>jeb bush suddenly attack trump matter jeb bush...</td>\n",
       "      <td>1</td>\n",
       "    </tr>\n",
       "  </tbody>\n",
       "</table>\n",
       "<p>6335 rows × 3 columns</p>\n",
       "</div>\n",
       "      <button class=\"colab-df-convert\" onclick=\"convertToInteractive('df-61308b5d-ff17-42a8-974e-86e5b0be0c96')\"\n",
       "              title=\"Convert this dataframe to an interactive table.\"\n",
       "              style=\"display:none;\">\n",
       "        \n",
       "  <svg xmlns=\"http://www.w3.org/2000/svg\" height=\"24px\"viewBox=\"0 0 24 24\"\n",
       "       width=\"24px\">\n",
       "    <path d=\"M0 0h24v24H0V0z\" fill=\"none\"/>\n",
       "    <path d=\"M18.56 5.44l.94 2.06.94-2.06 2.06-.94-2.06-.94-.94-2.06-.94 2.06-2.06.94zm-11 1L8.5 8.5l.94-2.06 2.06-.94-2.06-.94L8.5 2.5l-.94 2.06-2.06.94zm10 10l.94 2.06.94-2.06 2.06-.94-2.06-.94-.94-2.06-.94 2.06-2.06.94z\"/><path d=\"M17.41 7.96l-1.37-1.37c-.4-.4-.92-.59-1.43-.59-.52 0-1.04.2-1.43.59L10.3 9.45l-7.72 7.72c-.78.78-.78 2.05 0 2.83L4 21.41c.39.39.9.59 1.41.59.51 0 1.02-.2 1.41-.59l7.78-7.78 2.81-2.81c.8-.78.8-2.07 0-2.86zM5.41 20L4 18.59l7.72-7.72 1.47 1.35L5.41 20z\"/>\n",
       "  </svg>\n",
       "      </button>\n",
       "      \n",
       "  <style>\n",
       "    .colab-df-container {\n",
       "      display:flex;\n",
       "      flex-wrap:wrap;\n",
       "      gap: 12px;\n",
       "    }\n",
       "\n",
       "    .colab-df-convert {\n",
       "      background-color: #E8F0FE;\n",
       "      border: none;\n",
       "      border-radius: 50%;\n",
       "      cursor: pointer;\n",
       "      display: none;\n",
       "      fill: #1967D2;\n",
       "      height: 32px;\n",
       "      padding: 0 0 0 0;\n",
       "      width: 32px;\n",
       "    }\n",
       "\n",
       "    .colab-df-convert:hover {\n",
       "      background-color: #E2EBFA;\n",
       "      box-shadow: 0px 1px 2px rgba(60, 64, 67, 0.3), 0px 1px 3px 1px rgba(60, 64, 67, 0.15);\n",
       "      fill: #174EA6;\n",
       "    }\n",
       "\n",
       "    [theme=dark] .colab-df-convert {\n",
       "      background-color: #3B4455;\n",
       "      fill: #D2E3FC;\n",
       "    }\n",
       "\n",
       "    [theme=dark] .colab-df-convert:hover {\n",
       "      background-color: #434B5C;\n",
       "      box-shadow: 0px 1px 3px 1px rgba(0, 0, 0, 0.15);\n",
       "      filter: drop-shadow(0px 1px 2px rgba(0, 0, 0, 0.3));\n",
       "      fill: #FFFFFF;\n",
       "    }\n",
       "  </style>\n",
       "\n",
       "      <script>\n",
       "        const buttonEl =\n",
       "          document.querySelector('#df-61308b5d-ff17-42a8-974e-86e5b0be0c96 button.colab-df-convert');\n",
       "        buttonEl.style.display =\n",
       "          google.colab.kernel.accessAllowed ? 'block' : 'none';\n",
       "\n",
       "        async function convertToInteractive(key) {\n",
       "          const element = document.querySelector('#df-61308b5d-ff17-42a8-974e-86e5b0be0c96');\n",
       "          const dataTable =\n",
       "            await google.colab.kernel.invokeFunction('convertToInteractive',\n",
       "                                                     [key], {});\n",
       "          if (!dataTable) return;\n",
       "\n",
       "          const docLinkHtml = 'Like what you see? Visit the ' +\n",
       "            '<a target=\"_blank\" href=https://colab.research.google.com/notebooks/data_table.ipynb>data table notebook</a>'\n",
       "            + ' to learn more about interactive tables.';\n",
       "          element.innerHTML = '';\n",
       "          dataTable['output_type'] = 'display_data';\n",
       "          await google.colab.output.renderOutput(dataTable, element);\n",
       "          const docLink = document.createElement('div');\n",
       "          docLink.innerHTML = docLinkHtml;\n",
       "          element.appendChild(docLink);\n",
       "        }\n",
       "      </script>\n",
       "    </div>\n",
       "  </div>\n",
       "  "
      ],
      "text/plain": [
       "      Unnamed: 0                                               text  target\n",
       "0              0  smell hillary fear daniel greenfield shillman ...       0\n",
       "1              1  watch exact moment paul ryan commit political ...       0\n",
       "2              2  kerry go paris gesture sympathy u secretary st...       1\n",
       "3              3  bernie supporter twitter erupt anger dnc try w...       0\n",
       "4              4  battle new york primary matter primary day new...       1\n",
       "...          ...                                                ...     ...\n",
       "6330        6330  state department say can find email clinton sp...       1\n",
       "6331        6331  p pb stand plutocratic pentagon p pb stand plu...       0\n",
       "6332        6332  anti trump protester tool oligarchy informatio...       0\n",
       "6333        6333  ethiopia obama seek progress peace security ea...       1\n",
       "6334        6334  jeb bush suddenly attack trump matter jeb bush...       1\n",
       "\n",
       "[6335 rows x 3 columns]"
      ]
     },
     "execution_count": 5,
     "metadata": {},
     "output_type": "execute_result"
    }
   ],
   "source": [
    "cleandf"
   ]
  },
  {
   "cell_type": "code",
   "execution_count": 65,
   "id": "dec40ce8",
   "metadata": {
    "id": "dec40ce8"
   },
   "outputs": [],
   "source": [
    "from tensorflow.keras.preprocessing.text import Tokenizer\n",
    "from tensorflow.keras.preprocessing.sequence import pad_sequences\n",
    "from tensorflow.keras.models import Sequential\n",
    "from tensorflow.keras.optimizers import RMSprop\n",
    "from tensorflow.keras.layers import Dense, Conv1D, Embedding, Flatten, Masking, Dropout, LSTM, GRU\n",
    "from tensorflow.keras.callbacks import EarlyStopping\n",
    "from sklearn.model_selection import train_test_split"
   ]
  },
  {
   "cell_type": "code",
   "execution_count": 57,
   "id": "830a5847",
   "metadata": {
    "id": "830a5847"
   },
   "outputs": [],
   "source": [
    "tokenizer = Tokenizer()\n",
    "model = Sequential()\n",
    "es = EarlyStopping(monitor='val_loss', patience=10, restore_best_weights=True)\n",
    "X_train, X_test, y_train, y_test = train_test_split(cleandf['text'], cleandf['target'], test_size=0.25)"
   ]
  },
  {
   "cell_type": "code",
   "execution_count": 58,
   "id": "75329dd7",
   "metadata": {
    "id": "75329dd7"
   },
   "outputs": [],
   "source": [
    "tokenizer.fit_on_texts(X_train)"
   ]
  },
  {
   "cell_type": "code",
   "execution_count": 59,
   "id": "e30a2ac1",
   "metadata": {
    "id": "e30a2ac1"
   },
   "outputs": [],
   "source": [
    "X_train_token = tokenizer.texts_to_sequences(X_train)\n",
    "X_test_token = tokenizer.texts_to_sequences(X_test)"
   ]
  },
  {
   "cell_type": "code",
   "execution_count": 60,
   "id": "4b79eb65",
   "metadata": {
    "id": "4b79eb65"
   },
   "outputs": [],
   "source": [
    "X_train_token = pad_sequences(X_train_token, dtype='int32', padding='post', maxlen=300)\n",
    "X_test_token = pad_sequences(X_test_token, dtype='int32', padding='post', maxlen=300)"
   ]
  },
  {
   "cell_type": "code",
   "execution_count": 61,
   "id": "e8f12ec8",
   "metadata": {
    "id": "e8f12ec8"
   },
   "outputs": [],
   "source": [
    "model.add(Embedding(\n",
    "    input_dim=(len(tokenizer.word_index))+1, # +1 for the 0 padding\n",
    "    input_length=300, # Max_sentence_length (optional, for model summary)\n",
    "    output_dim=100,\n",
    "    mask_zero=True, # Built-in masking layer :)\n",
    "))\n",
    "model.add(LSTM(50, return_sequences=False))\n",
    "#model.add(Conv1D(30, kernel_size=5, activation='tanh'))\n",
    "#model.add(Flatten())\n",
    "model.add(Dense(25, activation='relu'))\n",
    "#model.add(Dropout(rate=0.2))\n",
    "model.add(Dense(1, activation='sigmoid'))\n",
    "model.compile(loss='binary_crossentropy', \n",
    "              optimizer=rms,\n",
    "             metrics=['accuracy'])"
   ]
  },
  {
   "cell_type": "code",
   "execution_count": 63,
   "id": "6dfa67fe",
   "metadata": {
    "colab": {
     "base_uri": "https://localhost:8080/"
    },
    "id": "6dfa67fe",
    "outputId": "77de766d-87ea-4776-f37e-da2bc2d1c272"
   },
   "outputs": [
    {
     "name": "stdout",
     "output_type": "stream",
     "text": [
      "Epoch 1/50\n",
      "112/112 [==============================] - 39s 304ms/step - loss: 0.6901 - accuracy: 0.5824 - val_loss: 0.6855 - val_accuracy: 0.6734\n",
      "Epoch 2/50\n",
      "112/112 [==============================] - 32s 285ms/step - loss: 0.6721 - accuracy: 0.7143 - val_loss: 0.6471 - val_accuracy: 0.7214\n",
      "Epoch 3/50\n",
      "112/112 [==============================] - 32s 284ms/step - loss: 0.5238 - accuracy: 0.8288 - val_loss: 0.4490 - val_accuracy: 0.8712\n",
      "Epoch 4/50\n",
      "112/112 [==============================] - 34s 305ms/step - loss: 0.4277 - accuracy: 0.8745 - val_loss: 0.4042 - val_accuracy: 0.8611\n",
      "Epoch 5/50\n",
      "112/112 [==============================] - 32s 284ms/step - loss: 0.3410 - accuracy: 0.8978 - val_loss: 0.3476 - val_accuracy: 0.8746\n",
      "Epoch 6/50\n",
      "112/112 [==============================] - 32s 284ms/step - loss: 0.2450 - accuracy: 0.9335 - val_loss: 0.2854 - val_accuracy: 0.8981\n",
      "Epoch 7/50\n",
      "112/112 [==============================] - 32s 283ms/step - loss: 0.1863 - accuracy: 0.9554 - val_loss: 0.2505 - val_accuracy: 0.9125\n",
      "Epoch 8/50\n",
      "112/112 [==============================] - 32s 285ms/step - loss: 0.1416 - accuracy: 0.9694 - val_loss: 0.3609 - val_accuracy: 0.8855\n",
      "Epoch 9/50\n",
      "112/112 [==============================] - 34s 298ms/step - loss: 0.1097 - accuracy: 0.9753 - val_loss: 0.3008 - val_accuracy: 0.9066\n",
      "Epoch 10/50\n",
      "112/112 [==============================] - 33s 292ms/step - loss: 0.0871 - accuracy: 0.9826 - val_loss: 0.2459 - val_accuracy: 0.9133\n",
      "Epoch 11/50\n",
      "112/112 [==============================] - 32s 284ms/step - loss: 0.0698 - accuracy: 0.9860 - val_loss: 0.2828 - val_accuracy: 0.9091\n",
      "Epoch 12/50\n",
      "112/112 [==============================] - 32s 283ms/step - loss: 0.0568 - accuracy: 0.9899 - val_loss: 0.3005 - val_accuracy: 0.9049\n",
      "Epoch 13/50\n",
      "112/112 [==============================] - 35s 316ms/step - loss: 0.0476 - accuracy: 0.9910 - val_loss: 0.3302 - val_accuracy: 0.8990\n",
      "Epoch 14/50\n",
      "112/112 [==============================] - 33s 294ms/step - loss: 0.0405 - accuracy: 0.9921 - val_loss: 0.3113 - val_accuracy: 0.9049\n",
      "Epoch 15/50\n",
      "112/112 [==============================] - 32s 284ms/step - loss: 0.0320 - accuracy: 0.9941 - val_loss: 0.2944 - val_accuracy: 0.9024\n",
      "Epoch 16/50\n",
      "112/112 [==============================] - 32s 284ms/step - loss: 0.0239 - accuracy: 0.9961 - val_loss: 0.5293 - val_accuracy: 0.8923\n",
      "Epoch 17/50\n",
      "112/112 [==============================] - 32s 284ms/step - loss: 0.0208 - accuracy: 0.9966 - val_loss: 0.3314 - val_accuracy: 0.9032\n",
      "Epoch 18/50\n",
      "112/112 [==============================] - 33s 293ms/step - loss: 0.0156 - accuracy: 0.9969 - val_loss: 0.4798 - val_accuracy: 0.8981\n",
      "Epoch 19/50\n",
      "112/112 [==============================] - 33s 294ms/step - loss: 0.0139 - accuracy: 0.9983 - val_loss: 0.6989 - val_accuracy: 0.8906\n",
      "Epoch 20/50\n",
      "112/112 [==============================] - 33s 294ms/step - loss: 0.0143 - accuracy: 0.9975 - val_loss: 0.5821 - val_accuracy: 0.8939\n"
     ]
    },
    {
     "data": {
      "text/plain": [
       "<keras.callbacks.History at 0x7f9e364794d0>"
      ]
     },
     "execution_count": 63,
     "metadata": {},
     "output_type": "execute_result"
    }
   ],
   "source": [
    "model.fit(X_train_token, y_train, \n",
    "          epochs=50, \n",
    "          batch_size=32,\n",
    "          validation_split=0.25,\n",
    "          callbacks=[es],\n",
    "        use_multiprocessing=True\n",
    "         )"
   ]
  },
  {
   "cell_type": "code",
   "execution_count": 64,
   "id": "c973bb7b",
   "metadata": {
    "colab": {
     "base_uri": "https://localhost:8080/"
    },
    "id": "c973bb7b",
    "outputId": "a1f78793-b479-4936-d621-cb33314b1938"
   },
   "outputs": [
    {
     "name": "stdout",
     "output_type": "stream",
     "text": [
      "50/50 [==============================] - 3s 58ms/step - loss: 0.2631 - accuracy: 0.9173\n"
     ]
    },
    {
     "data": {
      "text/plain": [
       "[0.2631131112575531, 0.9172979593276978]"
      ]
     },
     "execution_count": 64,
     "metadata": {},
     "output_type": "execute_result"
    }
   ],
   "source": [
    "model.evaluate(X_test_token, y_test, verbose=1)"
   ]
  },
  {
   "cell_type": "code",
   "execution_count": 66,
   "id": "MM_7WGbmKrO3",
   "metadata": {
    "id": "MM_7WGbmKrO3"
   },
   "outputs": [],
   "source": [
    "model = Sequential()\n",
    "model.add(Embedding(\n",
    "    input_dim=(len(tokenizer.word_index))+1, # +1 for the 0 padding\n",
    "    input_length=300, # Max_sentence_length (optional, for model summary)\n",
    "    output_dim=100,\n",
    "    mask_zero=True, # Built-in masking layer :)\n",
    "))\n",
    "model.add(GRU(50, return_sequences=False))\n",
    "#model.add(Conv1D(30, kernel_size=5, activation='tanh'))\n",
    "#model.add(Flatten())\n",
    "model.add(Dense(25, activation='relu'))\n",
    "#model.add(Dropout(rate=0.2))\n",
    "model.add(Dense(1, activation='sigmoid'))\n",
    "model.compile(loss='binary_crossentropy', \n",
    "              optimizer=rms,\n",
    "             metrics=['accuracy'])"
   ]
  },
  {
   "cell_type": "code",
   "execution_count": 67,
   "id": "PojEIzzHK2zV",
   "metadata": {
    "colab": {
     "base_uri": "https://localhost:8080/"
    },
    "id": "PojEIzzHK2zV",
    "outputId": "e31e9b27-e328-4737-d75a-03cffda60f21"
   },
   "outputs": [
    {
     "name": "stdout",
     "output_type": "stream",
     "text": [
      "Model: \"sequential_9\"\n",
      "_________________________________________________________________\n",
      " Layer (type)                Output Shape              Param #   \n",
      "=================================================================\n",
      " embedding_4 (Embedding)     (None, 300, 100)          4761600   \n",
      "                                                                 \n",
      " gru (GRU)                   (None, 50)                22800     \n",
      "                                                                 \n",
      " dense_16 (Dense)            (None, 25)                1275      \n",
      "                                                                 \n",
      " dense_17 (Dense)            (None, 1)                 26        \n",
      "                                                                 \n",
      "=================================================================\n",
      "Total params: 4,785,701\n",
      "Trainable params: 4,785,701\n",
      "Non-trainable params: 0\n",
      "_________________________________________________________________\n"
     ]
    }
   ],
   "source": [
    "model.summary()"
   ]
  },
  {
   "cell_type": "code",
   "execution_count": 68,
   "id": "1GXWKbHkK3_m",
   "metadata": {
    "colab": {
     "base_uri": "https://localhost:8080/"
    },
    "id": "1GXWKbHkK3_m",
    "outputId": "bdda367b-904e-4a5a-da47-702f5812e928"
   },
   "outputs": [
    {
     "name": "stdout",
     "output_type": "stream",
     "text": [
      "Epoch 1/50\n",
      "112/112 [==============================] - 35s 273ms/step - loss: 0.6899 - accuracy: 0.6043 - val_loss: 0.6875 - val_accuracy: 0.6322\n",
      "Epoch 2/50\n",
      "112/112 [==============================] - 30s 268ms/step - loss: 0.6798 - accuracy: 0.7118 - val_loss: 0.6753 - val_accuracy: 0.6835\n",
      "Epoch 3/50\n",
      "112/112 [==============================] - 31s 273ms/step - loss: 0.6560 - accuracy: 0.7609 - val_loss: 0.6456 - val_accuracy: 0.7104\n",
      "Epoch 4/50\n",
      "112/112 [==============================] - 30s 272ms/step - loss: 0.6006 - accuracy: 0.7993 - val_loss: 0.5766 - val_accuracy: 0.7559\n",
      "Epoch 5/50\n",
      "112/112 [==============================] - 29s 263ms/step - loss: 0.4544 - accuracy: 0.8324 - val_loss: 0.3924 - val_accuracy: 0.8308\n",
      "Epoch 6/50\n",
      "112/112 [==============================] - 31s 275ms/step - loss: 0.3072 - accuracy: 0.8835 - val_loss: 0.3351 - val_accuracy: 0.8510\n",
      "Epoch 7/50\n",
      "112/112 [==============================] - 30s 265ms/step - loss: 0.2424 - accuracy: 0.9065 - val_loss: 0.2884 - val_accuracy: 0.8746\n",
      "Epoch 8/50\n",
      "112/112 [==============================] - 31s 275ms/step - loss: 0.1861 - accuracy: 0.9318 - val_loss: 0.2674 - val_accuracy: 0.8939\n",
      "Epoch 9/50\n",
      "112/112 [==============================] - 31s 273ms/step - loss: 0.1491 - accuracy: 0.9478 - val_loss: 0.2699 - val_accuracy: 0.8864\n",
      "Epoch 10/50\n",
      "112/112 [==============================] - 30s 266ms/step - loss: 0.1172 - accuracy: 0.9655 - val_loss: 0.2441 - val_accuracy: 0.9049\n",
      "Epoch 11/50\n",
      "112/112 [==============================] - 30s 264ms/step - loss: 0.0936 - accuracy: 0.9731 - val_loss: 0.2765 - val_accuracy: 0.8998\n",
      "Epoch 12/50\n",
      "112/112 [==============================] - 29s 263ms/step - loss: 0.0728 - accuracy: 0.9806 - val_loss: 0.2532 - val_accuracy: 0.9091\n",
      "Epoch 13/50\n",
      "112/112 [==============================] - 30s 272ms/step - loss: 0.0558 - accuracy: 0.9862 - val_loss: 0.2495 - val_accuracy: 0.9133\n",
      "Epoch 14/50\n",
      "112/112 [==============================] - 30s 271ms/step - loss: 0.0455 - accuracy: 0.9893 - val_loss: 0.2432 - val_accuracy: 0.9150\n",
      "Epoch 15/50\n",
      "112/112 [==============================] - 29s 262ms/step - loss: 0.0376 - accuracy: 0.9916 - val_loss: 0.2649 - val_accuracy: 0.9141\n",
      "Epoch 16/50\n",
      "112/112 [==============================] - 29s 263ms/step - loss: 0.0312 - accuracy: 0.9927 - val_loss: 0.2722 - val_accuracy: 0.9133\n",
      "Epoch 17/50\n",
      "112/112 [==============================] - 30s 272ms/step - loss: 0.0258 - accuracy: 0.9944 - val_loss: 0.2737 - val_accuracy: 0.9184\n",
      "Epoch 18/50\n",
      "112/112 [==============================] - 31s 273ms/step - loss: 0.0213 - accuracy: 0.9952 - val_loss: 0.3140 - val_accuracy: 0.9167\n",
      "Epoch 19/50\n",
      "112/112 [==============================] - 31s 273ms/step - loss: 0.0182 - accuracy: 0.9958 - val_loss: 0.3411 - val_accuracy: 0.9141\n",
      "Epoch 20/50\n",
      "112/112 [==============================] - 30s 266ms/step - loss: 0.0134 - accuracy: 0.9978 - val_loss: 0.3391 - val_accuracy: 0.9175\n",
      "Epoch 21/50\n",
      "112/112 [==============================] - 30s 266ms/step - loss: 0.0104 - accuracy: 0.9983 - val_loss: 0.3882 - val_accuracy: 0.9082\n",
      "Epoch 22/50\n",
      "112/112 [==============================] - 30s 264ms/step - loss: 0.0093 - accuracy: 0.9983 - val_loss: 0.4318 - val_accuracy: 0.9040\n",
      "Epoch 23/50\n",
      "112/112 [==============================] - 30s 265ms/step - loss: 0.0066 - accuracy: 0.9989 - val_loss: 0.3885 - val_accuracy: 0.9108\n",
      "Epoch 24/50\n",
      "112/112 [==============================] - 31s 274ms/step - loss: 0.0055 - accuracy: 0.9989 - val_loss: 0.5151 - val_accuracy: 0.9040\n"
     ]
    },
    {
     "data": {
      "text/plain": [
       "<keras.callbacks.History at 0x7f9e26968990>"
      ]
     },
     "execution_count": 68,
     "metadata": {},
     "output_type": "execute_result"
    }
   ],
   "source": [
    "model.fit(X_train_token, y_train, \n",
    "          epochs=50, \n",
    "          batch_size=32,\n",
    "          validation_split=0.25,\n",
    "          callbacks=[es],\n",
    "        use_multiprocessing=True\n",
    "         )"
   ]
  },
  {
   "cell_type": "code",
   "execution_count": 69,
   "id": "GPvn5a9XK7yH",
   "metadata": {
    "colab": {
     "base_uri": "https://localhost:8080/"
    },
    "id": "GPvn5a9XK7yH",
    "outputId": "9f442e53-f992-4eda-8a52-41b2d3dcc54e"
   },
   "outputs": [
    {
     "name": "stdout",
     "output_type": "stream",
     "text": [
      "50/50 [==============================] - 3s 51ms/step - loss: 0.2519 - accuracy: 0.9122\n"
     ]
    },
    {
     "data": {
      "text/plain": [
       "[0.25192204117774963, 0.9122474789619446]"
      ]
     },
     "execution_count": 69,
     "metadata": {},
     "output_type": "execute_result"
    }
   ],
   "source": [
    "model.evaluate(X_test_token, y_test, verbose=1)"
   ]
  },
  {
   "cell_type": "markdown",
   "id": "fceec928",
   "metadata": {
    "id": "fceec928"
   },
   "source": [
    "# Attention: Beggining of Word2Vec\n",
    "## Better run only on Google Colab"
   ]
  },
  {
   "cell_type": "code",
   "execution_count": 15,
   "id": "5f81cf3e",
   "metadata": {
    "id": "5f81cf3e"
   },
   "outputs": [],
   "source": [
    "from gensim.models import Word2Vec\n",
    "import numpy as np\n",
    "#import gensim.downloader as api"
   ]
  },
  {
   "cell_type": "code",
   "execution_count": 35,
   "id": "0dc26958",
   "metadata": {
    "colab": {
     "base_uri": "https://localhost:8080/"
    },
    "id": "0dc26958",
    "outputId": "46db236b-22eb-472d-fe0a-0a83baaa8a95"
   },
   "outputs": [
    {
     "name": "stderr",
     "output_type": "stream",
     "text": [
      "WARNING:gensim.models.word2vec:Each 'sentences' item should be a list of words (usually unicode strings). First item here is instead plain <class 'str'>.\n"
     ]
    }
   ],
   "source": [
    "#word2vec = api.load('glove-wiki-gigaword-50') # this one crashes my kernel everytime\n",
    "#word2vec = api.load('text8') # this one takes an eternity\n",
    "word2vec = Word2Vec(sentences=X_train)"
   ]
  },
  {
   "cell_type": "code",
   "execution_count": 17,
   "id": "1d6de209",
   "metadata": {
    "id": "1d6de209"
   },
   "outputs": [],
   "source": [
    "# Function to convert a sentence (list of words) into a matrix representing the words in the embedding space\n",
    "def embed_sentence_with_TF(word2vec, sentence):\n",
    "    embedded_sentence = []\n",
    "    for word in sentence:\n",
    "        if word in word2vec.wv:\n",
    "            embedded_sentence.append(word2vec.wv[word])\n",
    "        \n",
    "    return np.array(embedded_sentence)"
   ]
  },
  {
   "cell_type": "code",
   "execution_count": 18,
   "id": "d41eea8c",
   "metadata": {
    "id": "d41eea8c"
   },
   "outputs": [],
   "source": [
    "# Function that converts a list of sentences into a list of matrices\n",
    "def embedding(word2vec, sentences):\n",
    "    embed = []\n",
    "    \n",
    "    for sentence in sentences:\n",
    "        embedded_sentence = embed_sentence_with_TF(word2vec, sentence)\n",
    "        embed.append(embedded_sentence)\n",
    "        \n",
    "    return embed"
   ]
  },
  {
   "cell_type": "code",
   "execution_count": 36,
   "id": "a79b5da9",
   "metadata": {
    "id": "a79b5da9"
   },
   "outputs": [],
   "source": [
    "# Embed the training and test sentences\n",
    "X_train_embed = embedding(word2vec, X_train)\n",
    "X_test_embed = embedding(word2vec, X_test)"
   ]
  },
  {
   "cell_type": "code",
   "execution_count": 37,
   "id": "42e2c3d8",
   "metadata": {
    "id": "42e2c3d8"
   },
   "outputs": [],
   "source": [
    "X_train_embed = pad_sequences(X_train_embed, dtype='float32', padding='post', maxlen=300)\n",
    "X_test_embed = pad_sequences(X_test_embed, dtype='float32', padding='post', maxlen=300)"
   ]
  },
  {
   "cell_type": "code",
   "execution_count": 38,
   "id": "e834ddb4",
   "metadata": {
    "id": "e834ddb4"
   },
   "outputs": [],
   "source": [
    "for X in [X_train_embed, X_test_embed]:\n",
    "    assert type(X) == np.ndarray\n",
    "    assert X.shape[-1] == word2vec.vector_size\n",
    "\n",
    "\n",
    "assert X_train_embed.shape[0] == len(X_train)\n",
    "assert X_test_embed.shape[0] == len(X_test)"
   ]
  },
  {
   "cell_type": "code",
   "execution_count": 28,
   "id": "XqNvUD_4Axa9",
   "metadata": {
    "id": "XqNvUD_4Axa9"
   },
   "outputs": [],
   "source": [
    "rms = RMSprop(learning_rate=0.0001)"
   ]
  },
  {
   "cell_type": "code",
   "execution_count": 39,
   "id": "77c2553a",
   "metadata": {
    "id": "77c2553a"
   },
   "outputs": [],
   "source": [
    "model = Sequential()\n",
    "model.add(Masking(mask_value=0, input_shape=X_train_embed.shape[1:]))\n",
    "#model.add(LSTM(20, return_sequences=True))\n",
    "model.add(Conv1D(30, kernel_size=5, activation='tanh'))\n",
    "model.add(Flatten())\n",
    "model.add(Dense(15, activation='relu'))\n",
    "#model.add(Dropout(rate=0.2))\n",
    "model.add(Dense(1, activation='sigmoid'))\n",
    "model.compile(loss='binary_crossentropy', \n",
    "              optimizer=rms,\n",
    "             metrics=['accuracy'])"
   ]
  },
  {
   "cell_type": "code",
   "execution_count": 40,
   "id": "259bd85d",
   "metadata": {
    "colab": {
     "base_uri": "https://localhost:8080/"
    },
    "id": "259bd85d",
    "outputId": "2113a54a-f8bd-4c32-c0d8-ccba9b0334f5"
   },
   "outputs": [
    {
     "name": "stdout",
     "output_type": "stream",
     "text": [
      "Model: \"sequential_5\"\n",
      "_________________________________________________________________\n",
      " Layer (type)                Output Shape              Param #   \n",
      "=================================================================\n",
      " masking_3 (Masking)         (None, 300, 100)          0         \n",
      "                                                                 \n",
      " conv1d_4 (Conv1D)           (None, 296, 30)           15030     \n",
      "                                                                 \n",
      " flatten_4 (Flatten)         (None, 8880)              0         \n",
      "                                                                 \n",
      " dense_8 (Dense)             (None, 15)                133215    \n",
      "                                                                 \n",
      " dense_9 (Dense)             (None, 1)                 16        \n",
      "                                                                 \n",
      "=================================================================\n",
      "Total params: 148,261\n",
      "Trainable params: 148,261\n",
      "Non-trainable params: 0\n",
      "_________________________________________________________________\n"
     ]
    }
   ],
   "source": [
    "model.summary()"
   ]
  },
  {
   "cell_type": "code",
   "execution_count": 41,
   "id": "88c6d711",
   "metadata": {
    "colab": {
     "base_uri": "https://localhost:8080/"
    },
    "id": "88c6d711",
    "outputId": "fa0fdd15-acb5-4fa7-faf6-4eea34e61f9f"
   },
   "outputs": [
    {
     "name": "stdout",
     "output_type": "stream",
     "text": [
      "Epoch 1/50\n",
      "112/112 [==============================] - 6s 46ms/step - loss: 0.6907 - accuracy: 0.5260 - val_loss: 0.6740 - val_accuracy: 0.5715\n",
      "Epoch 2/50\n",
      "112/112 [==============================] - 5s 45ms/step - loss: 0.6333 - accuracy: 0.6663 - val_loss: 0.6643 - val_accuracy: 0.5606\n",
      "Epoch 3/50\n",
      "112/112 [==============================] - 5s 45ms/step - loss: 0.5770 - accuracy: 0.7373 - val_loss: 0.6510 - val_accuracy: 0.6094\n",
      "Epoch 4/50\n",
      "112/112 [==============================] - 5s 46ms/step - loss: 0.5244 - accuracy: 0.7915 - val_loss: 0.6508 - val_accuracy: 0.6044\n",
      "Epoch 5/50\n",
      "112/112 [==============================] - 5s 45ms/step - loss: 0.4756 - accuracy: 0.8266 - val_loss: 0.6514 - val_accuracy: 0.6136\n",
      "Epoch 6/50\n",
      "112/112 [==============================] - 5s 44ms/step - loss: 0.4308 - accuracy: 0.8585 - val_loss: 0.6578 - val_accuracy: 0.6077\n",
      "Epoch 7/50\n",
      "112/112 [==============================] - 5s 45ms/step - loss: 0.3900 - accuracy: 0.8872 - val_loss: 0.6651 - val_accuracy: 0.6094\n",
      "Epoch 8/50\n",
      "112/112 [==============================] - 5s 45ms/step - loss: 0.3519 - accuracy: 0.9057 - val_loss: 0.6756 - val_accuracy: 0.6170\n",
      "Epoch 9/50\n",
      "112/112 [==============================] - 5s 46ms/step - loss: 0.3174 - accuracy: 0.9265 - val_loss: 0.6966 - val_accuracy: 0.6153\n",
      "Epoch 10/50\n",
      "112/112 [==============================] - 5s 45ms/step - loss: 0.2840 - accuracy: 0.9357 - val_loss: 0.7165 - val_accuracy: 0.6136\n",
      "Epoch 11/50\n",
      "112/112 [==============================] - 5s 45ms/step - loss: 0.2546 - accuracy: 0.9523 - val_loss: 0.7260 - val_accuracy: 0.6195\n",
      "Epoch 12/50\n",
      "112/112 [==============================] - 5s 45ms/step - loss: 0.2258 - accuracy: 0.9627 - val_loss: 0.7362 - val_accuracy: 0.6204\n",
      "Epoch 13/50\n",
      "112/112 [==============================] - 5s 46ms/step - loss: 0.2008 - accuracy: 0.9728 - val_loss: 0.7576 - val_accuracy: 0.6187\n",
      "Epoch 14/50\n",
      "112/112 [==============================] - 5s 45ms/step - loss: 0.1762 - accuracy: 0.9843 - val_loss: 0.7748 - val_accuracy: 0.6263\n",
      "Epoch 15/50\n",
      "112/112 [==============================] - 5s 46ms/step - loss: 0.1551 - accuracy: 0.9893 - val_loss: 0.7980 - val_accuracy: 0.6229\n",
      "Epoch 16/50\n",
      "112/112 [==============================] - 6s 56ms/step - loss: 0.1343 - accuracy: 0.9944 - val_loss: 0.8315 - val_accuracy: 0.6271\n",
      "Epoch 17/50\n",
      "112/112 [==============================] - 5s 45ms/step - loss: 0.1168 - accuracy: 0.9958 - val_loss: 0.8612 - val_accuracy: 0.6254\n",
      "Epoch 18/50\n",
      "112/112 [==============================] - 5s 45ms/step - loss: 0.1000 - accuracy: 0.9980 - val_loss: 0.8911 - val_accuracy: 0.6254\n",
      "Epoch 19/50\n",
      "112/112 [==============================] - 5s 45ms/step - loss: 0.0853 - accuracy: 0.9986 - val_loss: 0.9171 - val_accuracy: 0.6229\n",
      "Epoch 20/50\n",
      "112/112 [==============================] - 5s 46ms/step - loss: 0.0718 - accuracy: 0.9989 - val_loss: 0.9546 - val_accuracy: 0.6229\n",
      "Epoch 21/50\n",
      "112/112 [==============================] - 5s 45ms/step - loss: 0.0606 - accuracy: 0.9992 - val_loss: 0.9915 - val_accuracy: 0.6271\n",
      "Epoch 22/50\n",
      "112/112 [==============================] - 6s 55ms/step - loss: 0.0503 - accuracy: 0.9997 - val_loss: 1.0636 - val_accuracy: 0.6162\n",
      "Epoch 23/50\n",
      "112/112 [==============================] - 5s 45ms/step - loss: 0.0417 - accuracy: 0.9997 - val_loss: 1.0771 - val_accuracy: 0.6330\n",
      "Epoch 24/50\n",
      "112/112 [==============================] - 5s 45ms/step - loss: 0.0339 - accuracy: 0.9997 - val_loss: 1.1310 - val_accuracy: 0.6271\n",
      "Epoch 25/50\n",
      "112/112 [==============================] - 5s 45ms/step - loss: 0.0277 - accuracy: 1.0000 - val_loss: 1.1662 - val_accuracy: 0.6305\n",
      "Epoch 26/50\n",
      "112/112 [==============================] - 5s 45ms/step - loss: 0.0227 - accuracy: 1.0000 - val_loss: 1.2046 - val_accuracy: 0.6305\n",
      "Epoch 27/50\n",
      "112/112 [==============================] - 5s 45ms/step - loss: 0.0181 - accuracy: 1.0000 - val_loss: 1.2808 - val_accuracy: 0.6330\n",
      "Epoch 28/50\n",
      "112/112 [==============================] - 5s 45ms/step - loss: 0.0145 - accuracy: 1.0000 - val_loss: 1.3066 - val_accuracy: 0.6338\n",
      "Epoch 29/50\n",
      "112/112 [==============================] - 5s 46ms/step - loss: 0.0113 - accuracy: 1.0000 - val_loss: 1.3767 - val_accuracy: 0.6263\n",
      "Epoch 30/50\n",
      "112/112 [==============================] - 5s 45ms/step - loss: 0.0091 - accuracy: 1.0000 - val_loss: 1.4235 - val_accuracy: 0.6355\n",
      "Epoch 31/50\n",
      "112/112 [==============================] - 5s 44ms/step - loss: 0.0070 - accuracy: 1.0000 - val_loss: 1.4919 - val_accuracy: 0.6305\n",
      "Epoch 32/50\n",
      "112/112 [==============================] - 5s 45ms/step - loss: 0.0055 - accuracy: 1.0000 - val_loss: 1.5448 - val_accuracy: 0.6406\n",
      "Epoch 33/50\n",
      "112/112 [==============================] - 5s 45ms/step - loss: 0.0042 - accuracy: 1.0000 - val_loss: 1.5918 - val_accuracy: 0.6355\n",
      "Epoch 34/50\n",
      "112/112 [==============================] - 5s 45ms/step - loss: 0.0033 - accuracy: 1.0000 - val_loss: 1.6838 - val_accuracy: 0.6406\n",
      "Epoch 35/50\n",
      "112/112 [==============================] - 5s 45ms/step - loss: 0.0025 - accuracy: 1.0000 - val_loss: 1.7383 - val_accuracy: 0.6355\n",
      "Epoch 36/50\n",
      "112/112 [==============================] - 8s 67ms/step - loss: 0.0019 - accuracy: 1.0000 - val_loss: 1.8055 - val_accuracy: 0.6355\n",
      "Epoch 37/50\n",
      "112/112 [==============================] - 5s 44ms/step - loss: 0.0014 - accuracy: 1.0000 - val_loss: 1.8710 - val_accuracy: 0.6355\n",
      "Epoch 38/50\n",
      "112/112 [==============================] - 5s 45ms/step - loss: 0.0011 - accuracy: 1.0000 - val_loss: 1.9745 - val_accuracy: 0.6254\n",
      "Epoch 39/50\n",
      "112/112 [==============================] - 5s 45ms/step - loss: 8.0892e-04 - accuracy: 1.0000 - val_loss: 2.0402 - val_accuracy: 0.6279\n",
      "Epoch 40/50\n",
      "112/112 [==============================] - 5s 45ms/step - loss: 5.9559e-04 - accuracy: 1.0000 - val_loss: 2.0927 - val_accuracy: 0.6397\n",
      "Epoch 41/50\n",
      "112/112 [==============================] - 5s 45ms/step - loss: 4.3754e-04 - accuracy: 1.0000 - val_loss: 2.1719 - val_accuracy: 0.6364\n",
      "Epoch 42/50\n",
      "112/112 [==============================] - 5s 45ms/step - loss: 3.1531e-04 - accuracy: 1.0000 - val_loss: 2.2404 - val_accuracy: 0.6330\n"
     ]
    },
    {
     "data": {
      "text/plain": [
       "<keras.callbacks.History at 0x7f9e3624c9d0>"
      ]
     },
     "execution_count": 41,
     "metadata": {},
     "output_type": "execute_result"
    }
   ],
   "source": [
    "model.fit(X_train_embed, y_train, \n",
    "          epochs=50, \n",
    "          batch_size=32,\n",
    "          validation_split=0.25,\n",
    "          callbacks=[es],\n",
    "        use_multiprocessing=True\n",
    "         )"
   ]
  },
  {
   "cell_type": "code",
   "execution_count": 42,
   "id": "26821961",
   "metadata": {
    "colab": {
     "base_uri": "https://localhost:8080/"
    },
    "id": "26821961",
    "outputId": "840a1b21-c92c-415e-e3b7-7cf0e7a0ba26"
   },
   "outputs": [
    {
     "name": "stdout",
     "output_type": "stream",
     "text": [
      "50/50 [==============================] - 1s 15ms/step - loss: 1.6161 - accuracy: 0.6162\n"
     ]
    },
    {
     "data": {
      "text/plain": [
       "[1.616072416305542, 0.6161616444587708]"
      ]
     },
     "execution_count": 42,
     "metadata": {},
     "output_type": "execute_result"
    }
   ],
   "source": [
    "model.evaluate(X_test_embed, y_test, verbose=1)"
   ]
  }
 ],
 "metadata": {
  "accelerator": "TPU",
  "colab": {
   "collapsed_sections": [],
   "name": "lukasnotebook4NLPwithCNN.ipynb",
   "provenance": []
  },
  "gpuClass": "standard",
  "kernelspec": {
   "display_name": "Python 3 (ipykernel)",
   "language": "python",
   "name": "python3"
  },
  "language_info": {
   "codemirror_mode": {
    "name": "ipython",
    "version": 3
   },
   "file_extension": ".py",
   "mimetype": "text/x-python",
   "name": "python",
   "nbconvert_exporter": "python",
   "pygments_lexer": "ipython3",
   "version": "3.8.12"
  },
  "toc": {
   "base_numbering": 1,
   "nav_menu": {},
   "number_sections": true,
   "sideBar": true,
   "skip_h1_title": false,
   "title_cell": "Table of Contents",
   "title_sidebar": "Contents",
   "toc_cell": false,
   "toc_position": {},
   "toc_section_display": true,
   "toc_window_display": false
  },
  "varInspector": {
   "cols": {
    "lenName": 16,
    "lenType": 16,
    "lenVar": 40
   },
   "kernels_config": {
    "python": {
     "delete_cmd_postfix": "",
     "delete_cmd_prefix": "del ",
     "library": "var_list.py",
     "varRefreshCmd": "print(var_dic_list())"
    },
    "r": {
     "delete_cmd_postfix": ") ",
     "delete_cmd_prefix": "rm(",
     "library": "var_list.r",
     "varRefreshCmd": "cat(var_dic_list()) "
    }
   },
   "types_to_exclude": [
    "module",
    "function",
    "builtin_function_or_method",
    "instance",
    "_Feature"
   ],
   "window_display": false
  }
 },
 "nbformat": 4,
 "nbformat_minor": 5
}
