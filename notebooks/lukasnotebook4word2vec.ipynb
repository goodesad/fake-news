{
 "cells": [
  {
   "cell_type": "markdown",
   "id": "a85df0be",
   "metadata": {
    "id": "a85df0be"
   },
   "source": [
    "# Imports"
   ]
  },
  {
   "cell_type": "code",
   "execution_count": 1,
   "id": "79444aa9",
   "metadata": {
    "id": "79444aa9"
   },
   "outputs": [],
   "source": [
    "import os\n",
    "import pandas as pd"
   ]
  },
  {
   "cell_type": "code",
   "execution_count": 10,
   "id": "986cf6fa",
   "metadata": {
    "id": "986cf6fa"
   },
   "outputs": [],
   "source": [
    "csv_path = '../content/sample_data' # google colab path\n",
    "#csv_path = '../raw_data' # our pc path\n",
    "cleandf = pd.read_csv(os.path.join(csv_path, 'clean_data.csv'))"
   ]
  },
  {
   "cell_type": "code",
   "execution_count": 11,
   "id": "7c930f85",
   "metadata": {
    "colab": {
     "base_uri": "https://localhost:8080/",
     "height": 424
    },
    "id": "7c930f85",
    "outputId": "3a7c1b53-4baf-447a-edec-a1a1d09b353f"
   },
   "outputs": [
    {
     "data": {
      "text/html": [
       "\n",
       "  <div id=\"df-6cf864d8-995b-479c-b7c3-2b1082c3352b\">\n",
       "    <div class=\"colab-df-container\">\n",
       "      <div>\n",
       "<style scoped>\n",
       "    .dataframe tbody tr th:only-of-type {\n",
       "        vertical-align: middle;\n",
       "    }\n",
       "\n",
       "    .dataframe tbody tr th {\n",
       "        vertical-align: top;\n",
       "    }\n",
       "\n",
       "    .dataframe thead th {\n",
       "        text-align: right;\n",
       "    }\n",
       "</style>\n",
       "<table border=\"1\" class=\"dataframe\">\n",
       "  <thead>\n",
       "    <tr style=\"text-align: right;\">\n",
       "      <th></th>\n",
       "      <th>Unnamed: 0</th>\n",
       "      <th>text</th>\n",
       "      <th>target</th>\n",
       "    </tr>\n",
       "  </thead>\n",
       "  <tbody>\n",
       "    <tr>\n",
       "      <th>0</th>\n",
       "      <td>0</td>\n",
       "      <td>smell hillary fear daniel greenfield shillman ...</td>\n",
       "      <td>0</td>\n",
       "    </tr>\n",
       "    <tr>\n",
       "      <th>1</th>\n",
       "      <td>1</td>\n",
       "      <td>watch exact moment paul ryan commit political ...</td>\n",
       "      <td>0</td>\n",
       "    </tr>\n",
       "    <tr>\n",
       "      <th>2</th>\n",
       "      <td>2</td>\n",
       "      <td>kerry go paris gesture sympathy u secretary st...</td>\n",
       "      <td>1</td>\n",
       "    </tr>\n",
       "    <tr>\n",
       "      <th>3</th>\n",
       "      <td>3</td>\n",
       "      <td>bernie supporter twitter erupt anger dnc try w...</td>\n",
       "      <td>0</td>\n",
       "    </tr>\n",
       "    <tr>\n",
       "      <th>4</th>\n",
       "      <td>4</td>\n",
       "      <td>battle new york primary matter primary day new...</td>\n",
       "      <td>1</td>\n",
       "    </tr>\n",
       "    <tr>\n",
       "      <th>...</th>\n",
       "      <td>...</td>\n",
       "      <td>...</td>\n",
       "      <td>...</td>\n",
       "    </tr>\n",
       "    <tr>\n",
       "      <th>6330</th>\n",
       "      <td>6330</td>\n",
       "      <td>state department say can find email clinton sp...</td>\n",
       "      <td>1</td>\n",
       "    </tr>\n",
       "    <tr>\n",
       "      <th>6331</th>\n",
       "      <td>6331</td>\n",
       "      <td>p pb stand plutocratic pentagon p pb stand plu...</td>\n",
       "      <td>0</td>\n",
       "    </tr>\n",
       "    <tr>\n",
       "      <th>6332</th>\n",
       "      <td>6332</td>\n",
       "      <td>anti trump protester tool oligarchy informatio...</td>\n",
       "      <td>0</td>\n",
       "    </tr>\n",
       "    <tr>\n",
       "      <th>6333</th>\n",
       "      <td>6333</td>\n",
       "      <td>ethiopia obama seek progress peace security ea...</td>\n",
       "      <td>1</td>\n",
       "    </tr>\n",
       "    <tr>\n",
       "      <th>6334</th>\n",
       "      <td>6334</td>\n",
       "      <td>jeb bush suddenly attack trump matter jeb bush...</td>\n",
       "      <td>1</td>\n",
       "    </tr>\n",
       "  </tbody>\n",
       "</table>\n",
       "<p>6335 rows × 3 columns</p>\n",
       "</div>\n",
       "      <button class=\"colab-df-convert\" onclick=\"convertToInteractive('df-6cf864d8-995b-479c-b7c3-2b1082c3352b')\"\n",
       "              title=\"Convert this dataframe to an interactive table.\"\n",
       "              style=\"display:none;\">\n",
       "        \n",
       "  <svg xmlns=\"http://www.w3.org/2000/svg\" height=\"24px\"viewBox=\"0 0 24 24\"\n",
       "       width=\"24px\">\n",
       "    <path d=\"M0 0h24v24H0V0z\" fill=\"none\"/>\n",
       "    <path d=\"M18.56 5.44l.94 2.06.94-2.06 2.06-.94-2.06-.94-.94-2.06-.94 2.06-2.06.94zm-11 1L8.5 8.5l.94-2.06 2.06-.94-2.06-.94L8.5 2.5l-.94 2.06-2.06.94zm10 10l.94 2.06.94-2.06 2.06-.94-2.06-.94-.94-2.06-.94 2.06-2.06.94z\"/><path d=\"M17.41 7.96l-1.37-1.37c-.4-.4-.92-.59-1.43-.59-.52 0-1.04.2-1.43.59L10.3 9.45l-7.72 7.72c-.78.78-.78 2.05 0 2.83L4 21.41c.39.39.9.59 1.41.59.51 0 1.02-.2 1.41-.59l7.78-7.78 2.81-2.81c.8-.78.8-2.07 0-2.86zM5.41 20L4 18.59l7.72-7.72 1.47 1.35L5.41 20z\"/>\n",
       "  </svg>\n",
       "      </button>\n",
       "      \n",
       "  <style>\n",
       "    .colab-df-container {\n",
       "      display:flex;\n",
       "      flex-wrap:wrap;\n",
       "      gap: 12px;\n",
       "    }\n",
       "\n",
       "    .colab-df-convert {\n",
       "      background-color: #E8F0FE;\n",
       "      border: none;\n",
       "      border-radius: 50%;\n",
       "      cursor: pointer;\n",
       "      display: none;\n",
       "      fill: #1967D2;\n",
       "      height: 32px;\n",
       "      padding: 0 0 0 0;\n",
       "      width: 32px;\n",
       "    }\n",
       "\n",
       "    .colab-df-convert:hover {\n",
       "      background-color: #E2EBFA;\n",
       "      box-shadow: 0px 1px 2px rgba(60, 64, 67, 0.3), 0px 1px 3px 1px rgba(60, 64, 67, 0.15);\n",
       "      fill: #174EA6;\n",
       "    }\n",
       "\n",
       "    [theme=dark] .colab-df-convert {\n",
       "      background-color: #3B4455;\n",
       "      fill: #D2E3FC;\n",
       "    }\n",
       "\n",
       "    [theme=dark] .colab-df-convert:hover {\n",
       "      background-color: #434B5C;\n",
       "      box-shadow: 0px 1px 3px 1px rgba(0, 0, 0, 0.15);\n",
       "      filter: drop-shadow(0px 1px 2px rgba(0, 0, 0, 0.3));\n",
       "      fill: #FFFFFF;\n",
       "    }\n",
       "  </style>\n",
       "\n",
       "      <script>\n",
       "        const buttonEl =\n",
       "          document.querySelector('#df-6cf864d8-995b-479c-b7c3-2b1082c3352b button.colab-df-convert');\n",
       "        buttonEl.style.display =\n",
       "          google.colab.kernel.accessAllowed ? 'block' : 'none';\n",
       "\n",
       "        async function convertToInteractive(key) {\n",
       "          const element = document.querySelector('#df-6cf864d8-995b-479c-b7c3-2b1082c3352b');\n",
       "          const dataTable =\n",
       "            await google.colab.kernel.invokeFunction('convertToInteractive',\n",
       "                                                     [key], {});\n",
       "          if (!dataTable) return;\n",
       "\n",
       "          const docLinkHtml = 'Like what you see? Visit the ' +\n",
       "            '<a target=\"_blank\" href=https://colab.research.google.com/notebooks/data_table.ipynb>data table notebook</a>'\n",
       "            + ' to learn more about interactive tables.';\n",
       "          element.innerHTML = '';\n",
       "          dataTable['output_type'] = 'display_data';\n",
       "          await google.colab.output.renderOutput(dataTable, element);\n",
       "          const docLink = document.createElement('div');\n",
       "          docLink.innerHTML = docLinkHtml;\n",
       "          element.appendChild(docLink);\n",
       "        }\n",
       "      </script>\n",
       "    </div>\n",
       "  </div>\n",
       "  "
      ],
      "text/plain": [
       "      Unnamed: 0                                               text  target\n",
       "0              0  smell hillary fear daniel greenfield shillman ...       0\n",
       "1              1  watch exact moment paul ryan commit political ...       0\n",
       "2              2  kerry go paris gesture sympathy u secretary st...       1\n",
       "3              3  bernie supporter twitter erupt anger dnc try w...       0\n",
       "4              4  battle new york primary matter primary day new...       1\n",
       "...          ...                                                ...     ...\n",
       "6330        6330  state department say can find email clinton sp...       1\n",
       "6331        6331  p pb stand plutocratic pentagon p pb stand plu...       0\n",
       "6332        6332  anti trump protester tool oligarchy informatio...       0\n",
       "6333        6333  ethiopia obama seek progress peace security ea...       1\n",
       "6334        6334  jeb bush suddenly attack trump matter jeb bush...       1\n",
       "\n",
       "[6335 rows x 3 columns]"
      ]
     },
     "execution_count": 11,
     "metadata": {},
     "output_type": "execute_result"
    }
   ],
   "source": [
    "cleandf"
   ]
  },
  {
   "cell_type": "code",
   "execution_count": 2,
   "id": "14e82081",
   "metadata": {
    "id": "14e82081"
   },
   "outputs": [],
   "source": [
    "from tensorflow.keras.preprocessing.text import Tokenizer\n",
    "from tensorflow.keras.preprocessing.sequence import pad_sequences\n",
    "from tensorflow.keras.models import Sequential\n",
    "from tensorflow.keras.optimizers import RMSprop\n",
    "from tensorflow.keras.metrics import Precision, Recall, BinaryAccuracy\n",
    "from tensorflow.keras.layers import Dense, Conv1D, Embedding, Flatten, Masking, Dropout, LSTM, GRU\n",
    "from tensorflow.keras.callbacks import EarlyStopping\n",
    "from sklearn.model_selection import train_test_split\n",
    "from gensim.models import Word2Vec\n",
    "import numpy as np\n",
    "import matplotlib.pyplot as plt\n",
    "import seaborn as sns\n",
    "%matplotlib inline"
   ]
  },
  {
   "cell_type": "markdown",
   "id": "3ec13f5f",
   "metadata": {
    "id": "3ec13f5f"
   },
   "source": [
    "# Variables"
   ]
  },
  {
   "cell_type": "code",
   "execution_count": 3,
   "id": "f00a2f3d",
   "metadata": {
    "id": "f00a2f3d"
   },
   "outputs": [],
   "source": [
    "es = EarlyStopping(monitor='val_binary_accuracy', patience=10, restore_best_weights=True)"
   ]
  },
  {
   "cell_type": "code",
   "execution_count": 4,
   "id": "b603d5dc",
   "metadata": {
    "id": "b603d5dc"
   },
   "outputs": [],
   "source": [
    "binacc = BinaryAccuracy()\n",
    "prec = Precision()\n",
    "rec = Recall()"
   ]
  },
  {
   "cell_type": "markdown",
   "id": "9ec497f3",
   "metadata": {
    "id": "9ec497f3"
   },
   "source": [
    "# Functions"
   ]
  },
  {
   "cell_type": "code",
   "execution_count": 5,
   "id": "888e84e3",
   "metadata": {
    "id": "888e84e3"
   },
   "outputs": [],
   "source": [
    "def plot_loss_accuracy(history, title):\n",
    "    fig, ((ax1, ax2), (ax3, ax4)) = plt.subplots(2,2, figsize=(15,10))\n",
    "    \n",
    "    ax1.plot(history.history['loss'])\n",
    "    ax1.plot(history.history['val_loss'])\n",
    "    ax1.set_title(f'{title} Loss')\n",
    "    ax1.set_ylabel('Loss')\n",
    "    ax1.set_xlabel('Epoch')\n",
    "    ax1.set_ylim(ymin=0, ymax=2)\n",
    "    ax1.legend(['Train', 'Validation'], loc='best')\n",
    "    ax1.grid(axis=\"x\",linewidth=0.5)\n",
    "    ax1.grid(axis=\"y\",linewidth=0.5)    \n",
    "    \n",
    "    ax2.plot(history.history['binary_accuracy'])\n",
    "    ax2.plot(history.history['val_binary_accuracy'])\n",
    "    ax2.set_title(f'{title} Accuracy')\n",
    "    ax2.set_ylabel('Accuracy')\n",
    "    ax2.set_xlabel('Epoch')\n",
    "    ax2.set_ylim(ymin=0, ymax=2)\n",
    "    ax2.legend(['Train', 'Validation'], loc='best')\n",
    "    ax2.grid(axis=\"x\",linewidth=0.5)\n",
    "    ax2.grid(axis=\"y\",linewidth=0.5)    \n",
    "\n",
    "    ax3.plot(history.history['precision'])\n",
    "    ax3.plot(history.history['val_precision'])\n",
    "    ax3.set_title(f'{title} Precision')\n",
    "    ax3.set_ylabel('Precision')\n",
    "    ax3.set_xlabel('Epoch')\n",
    "    ax3.set_ylim(ymin=0, ymax=2)\n",
    "    ax3.legend(['Train', 'Validation'], loc='best')\n",
    "    ax3.grid(axis=\"x\",linewidth=0.5)\n",
    "    ax3.grid(axis=\"y\",linewidth=0.5)    \n",
    "    \n",
    "    ax4.plot(history.history['recall'])\n",
    "    ax4.plot(history.history['val_recall'])\n",
    "    ax4.set_title(f'{title} Recall')\n",
    "    ax4.set_ylabel('Recall')\n",
    "    ax4.set_xlabel('Epoch')\n",
    "    ax4.set_ylim(ymin=0, ymax=2)\n",
    "    ax4.legend(['Train', 'Validation'], loc='best')\n",
    "    ax4.grid(axis=\"x\",linewidth=0.5)\n",
    "    ax4.grid(axis=\"y\",linewidth=0.5)  \n",
    "    \n",
    "    plt.show()"
   ]
  },
  {
   "cell_type": "code",
   "execution_count": 6,
   "id": "9b77870a",
   "metadata": {
    "id": "9b77870a"
   },
   "outputs": [],
   "source": [
    "# Function to convert a sentence (list of words) into a matrix representing the words in the embedding space\n",
    "def embed_sentence_with_TF(word2vec, sentence):\n",
    "    embedded_sentence = []\n",
    "    for word in sentence:\n",
    "        if word in word2vec.wv:\n",
    "            embedded_sentence.append(word2vec.wv[word])\n",
    "        \n",
    "    return np.array(embedded_sentence)"
   ]
  },
  {
   "cell_type": "code",
   "execution_count": 7,
   "id": "fe6188c2",
   "metadata": {
    "id": "fe6188c2"
   },
   "outputs": [],
   "source": [
    "# Function that converts a list of sentences into a list of matrices\n",
    "def embedding(word2vec, sentences):\n",
    "    embed = []\n",
    "    \n",
    "    for sentence in sentences:\n",
    "        embedded_sentence = embed_sentence_with_TF(word2vec, sentence)\n",
    "        embed.append(embedded_sentence)\n",
    "        \n",
    "    return embed"
   ]
  },
  {
   "cell_type": "code",
   "execution_count": 15,
   "id": "f789ecbe",
   "metadata": {
    "id": "f789ecbe"
   },
   "outputs": [],
   "source": [
    "def initialize_model (model_name, neurons):\n",
    "    model = Sequential()\n",
    "    model.add(Masking(mask_value=0, input_shape=X_train_embed.shape[1:]))\n",
    "    if model_name == 'lstm':\n",
    "        model.add(LSTM((neurons*2), return_sequences=False))\n",
    "        model.add(Dense((neurons), activation='relu'))\n",
    "    if model_name == 'gru':\n",
    "        model.add(GRU((neurons*2), return_sequences=False))\n",
    "        model.add(Dense((neurons), activation='relu'))\n",
    "    if model_name == 'cnn':\n",
    "        model.add(Conv1D(neurons, kernel_size=5, activation='tanh'))\n",
    "        model.add(Flatten())\n",
    "        model.add(Dense((neurons/2), activation='relu'))\n",
    "    #model.add(Dropout(rate=0.2))\n",
    "    model.add(Dense(1, activation='sigmoid'))\n",
    "    return model"
   ]
  },
  {
   "cell_type": "code",
   "execution_count": 9,
   "id": "7f3c7b3c",
   "metadata": {
    "id": "7f3c7b3c"
   },
   "outputs": [],
   "source": [
    "def compile_model(model):\n",
    "    model.compile(loss='binary_crossentropy',\n",
    "              optimizer=RMSprop(learning_rate=0.0001), \n",
    "              metrics=[binacc, prec, rec]) \n",
    "    return model"
   ]
  },
  {
   "cell_type": "markdown",
   "id": "1e71a70e",
   "metadata": {
    "id": "1e71a70e"
   },
   "source": [
    "# Testing models"
   ]
  },
  {
   "cell_type": "markdown",
   "id": "ba3de069",
   "metadata": {
    "id": "ba3de069"
   },
   "source": [
    "## LSTM model"
   ]
  },
  {
   "cell_type": "markdown",
   "id": "6f81dad6",
   "metadata": {
    "id": "6f81dad6"
   },
   "source": [
    "### Preparing data"
   ]
  },
  {
   "cell_type": "code",
   "execution_count": 12,
   "id": "a7234399",
   "metadata": {
    "colab": {
     "base_uri": "https://localhost:8080/"
    },
    "id": "a7234399",
    "outputId": "982aa169-a629-4fba-ff00-f55c449c3279"
   },
   "outputs": [
    {
     "name": "stderr",
     "output_type": "stream",
     "text": [
      "WARNING:gensim.models.word2vec:Each 'sentences' item should be a list of words (usually unicode strings). First item here is instead plain <class 'str'>.\n"
     ]
    }
   ],
   "source": [
    "X_train, X_test, y_train, y_test = train_test_split(cleandf['text'], cleandf['target'], test_size=0.2)\n",
    "word2vec = Word2Vec(sentences=X_train)\n",
    "# Embed the training and test sentences\n",
    "X_train_embed = embedding(word2vec, X_train)\n",
    "X_test_embed = embedding(word2vec, X_test)\n",
    "X_train_embed = pad_sequences(X_train_embed, dtype='float32', padding='post', maxlen=300)\n",
    "X_test_embed = pad_sequences(X_test_embed, dtype='float32', padding='post', maxlen=300)"
   ]
  },
  {
   "cell_type": "code",
   "execution_count": 13,
   "id": "5c19fdd2",
   "metadata": {
    "id": "5c19fdd2"
   },
   "outputs": [],
   "source": [
    "for X in [X_train_embed, X_test_embed]:\n",
    "    assert type(X) == np.ndarray\n",
    "    assert X.shape[-1] == word2vec.vector_size\n",
    "\n",
    "\n",
    "assert X_train_embed.shape[0] == len(X_train)\n",
    "assert X_test_embed.shape[0] == len(X_test)"
   ]
  },
  {
   "cell_type": "markdown",
   "id": "7366b8f2",
   "metadata": {
    "id": "7366b8f2"
   },
   "source": [
    "### Testing model"
   ]
  },
  {
   "cell_type": "code",
   "execution_count": 16,
   "id": "19e8a8cd",
   "metadata": {
    "colab": {
     "base_uri": "https://localhost:8080/",
     "height": 933
    },
    "id": "19e8a8cd",
    "outputId": "b926a96a-6ae0-41ba-9377-dcc0b00b6192"
   },
   "outputs": [
    {
     "name": "stdout",
     "output_type": "stream",
     "text": [
      "Model: \"sequential_1\"\n",
      "_________________________________________________________________\n",
      " Layer (type)                Output Shape              Param #   \n",
      "=================================================================\n",
      " masking (Masking)           (None, 300, 100)          0         \n",
      "                                                                 \n",
      " lstm (LSTM)                 (None, 112)               95424     \n",
      "                                                                 \n",
      " dense (Dense)               (None, 56)                6328      \n",
      "                                                                 \n",
      " dense_1 (Dense)             (None, 1)                 57        \n",
      "                                                                 \n",
      "=================================================================\n",
      "Total params: 101,809\n",
      "Trainable params: 101,809\n",
      "Non-trainable params: 0\n",
      "_________________________________________________________________\n",
      "40/40 [==============================] - 5s 124ms/step - loss: 0.5803 - binary_accuracy: 0.6985 - precision: 0.6722 - recall: 0.7337\n"
     ]
    },
    {
     "data": {
      "image/png": "[encoded data removed]",
      "text/plain": [
       "<Figure size 1080x720 with 4 Axes>"
      ]
     },
     "metadata": {
      "needs_background": "light"
     },
     "output_type": "display_data"
    }
   ],
   "source": [
    "%%time\n",
    "model = compile_model(initialize_model('lstm', 56))\n",
    "model.summary()\n",
    "history = model.fit(X_train_embed, y_train, \n",
    "      epochs=50, \n",
    "      batch_size=16,\n",
    "      validation_split=0.2,\n",
    "      callbacks=[es],\n",
    "    verbose = 0, \n",
    "    use_multiprocessing=True\n",
    "      )\n",
    "model.evaluate(X_test_embed, y_test, verbose=1)\n",
    "plot_loss_accuracy(history, 'lstm')"
   ]
  },
  {
   "cell_type": "markdown",
   "id": "16d14659",
   "metadata": {
    "id": "16d14659"
   },
   "source": [
    "## GRU model"
   ]
  },
  {
   "cell_type": "markdown",
   "id": "cb807cbf",
   "metadata": {
    "id": "cb807cbf"
   },
   "source": [
    "### Preparing data"
   ]
  },
  {
   "cell_type": "code",
   "execution_count": 17,
   "id": "7f097987",
   "metadata": {
    "colab": {
     "base_uri": "https://localhost:8080/"
    },
    "id": "7f097987",
    "outputId": "431a39e0-d146-4fbd-c86c-dece78f7b692"
   },
   "outputs": [
    {
     "name": "stderr",
     "output_type": "stream",
     "text": [
      "WARNING:gensim.models.word2vec:Each 'sentences' item should be a list of words (usually unicode strings). First item here is instead plain <class 'str'>.\n"
     ]
    }
   ],
   "source": [
    "X_train, X_test, y_train, y_test = train_test_split(cleandf['text'], cleandf['target'], test_size=0.3)\n",
    "word2vec = Word2Vec(sentences=X_train)\n",
    "# Embed the training and test sentences\n",
    "X_train_embed = embedding(word2vec, X_train)\n",
    "X_test_embed = embedding(word2vec, X_test)\n",
    "X_train_embed = pad_sequences(X_train_embed, dtype='float32', padding='post', maxlen=300)\n",
    "X_test_embed = pad_sequences(X_test_embed, dtype='float32', padding='post', maxlen=300)"
   ]
  },
  {
   "cell_type": "markdown",
   "id": "0aa908fb",
   "metadata": {
    "id": "0aa908fb"
   },
   "source": [
    "### Testing model"
   ]
  },
  {
   "cell_type": "code",
   "execution_count": 19,
   "id": "95abec91",
   "metadata": {
    "colab": {
     "base_uri": "https://localhost:8080/",
     "height": 968
    },
    "id": "95abec91",
    "outputId": "87901583-9dc3-4876-a7f0-8a32cbf2f1f7"
   },
   "outputs": [
    {
     "name": "stdout",
     "output_type": "stream",
     "text": [
      "Model: \"sequential_3\"\n",
      "_________________________________________________________________\n",
      " Layer (type)                Output Shape              Param #   \n",
      "=================================================================\n",
      " masking_2 (Masking)         (None, 300, 100)          0         \n",
      "                                                                 \n",
      " gru_1 (GRU)                 (None, 112)               71904     \n",
      "                                                                 \n",
      " dense_4 (Dense)             (None, 56)                6328      \n",
      "                                                                 \n",
      " dense_5 (Dense)             (None, 1)                 57        \n",
      "                                                                 \n",
      "=================================================================\n",
      "Total params: 78,289\n",
      "Trainable params: 78,289\n",
      "Non-trainable params: 0\n",
      "_________________________________________________________________\n",
      "60/60 [==============================] - 5s 77ms/step - loss: 0.5876 - binary_accuracy: 0.6775 - precision: 0.7384 - recall: 0.6040\n"
     ]
    },
    {
     "data": {
      "image/png": "[encoded data removed]",
      "text/plain": [
       "<Figure size 1080x720 with 4 Axes>"
      ]
     },
     "metadata": {
      "needs_background": "light"
     },
     "output_type": "display_data"
    },
    {
     "name": "stdout",
     "output_type": "stream",
     "text": [
      "CPU times: user 44min 45s, sys: 1min 15s, total: 46min\n",
      "Wall time: 24min 52s\n"
     ]
    }
   ],
   "source": [
    "%%time\n",
    "model = compile_model(initialize_model('gru', 56))\n",
    "model.summary()\n",
    "history = model.fit(X_train_embed, y_train, \n",
    "      epochs=50, \n",
    "      batch_size=32,\n",
    "      validation_split=0.3,\n",
    "      callbacks=[es],\n",
    "    verbose = 0, \n",
    "    use_multiprocessing=True\n",
    "      )\n",
    "model.evaluate(X_test_embed, y_test, verbose=1)\n",
    "plot_loss_accuracy(history, 'gru')"
   ]
  },
  {
   "cell_type": "markdown",
   "id": "TCP1dtfrwvbb",
   "metadata": {
    "id": "TCP1dtfrwvbb"
   },
   "source": [
    "# Conclusion:\n",
    "## The way it is now, Word2Vec takes too long and isn't better.\n",
    "## Maybe if we train in a trained vocabulary using chunks..."
   ]
  }
 ],
 "metadata": {
  "accelerator": "GPU",
  "colab": {
   "collapsed_sections": [],
   "name": "lukasnotebook4word2vec.ipynb",
   "provenance": []
  },
  "gpuClass": "standard",
  "kernelspec": {
   "display_name": "Python 3 (ipykernel)",
   "language": "python",
   "name": "python3"
  },
  "language_info": {
   "codemirror_mode": {
    "name": "ipython",
    "version": 3
   },
   "file_extension": ".py",
   "mimetype": "text/x-python",
   "name": "python",
   "nbconvert_exporter": "python",
   "pygments_lexer": "ipython3",
   "version": "3.8.12"
  },
  "toc": {
   "base_numbering": 1,
   "nav_menu": {},
   "number_sections": true,
   "sideBar": true,
   "skip_h1_title": false,
   "title_cell": "Table of Contents",
   "title_sidebar": "Contents",
   "toc_cell": false,
   "toc_position": {},
   "toc_section_display": true,
   "toc_window_display": false
  },
  "varInspector": {
   "cols": {
    "lenName": 16,
    "lenType": 16,
    "lenVar": 40
   },
   "kernels_config": {
    "python": {
     "delete_cmd_postfix": "",
     "delete_cmd_prefix": "del ",
     "library": "var_list.py",
     "varRefreshCmd": "print(var_dic_list())"
    },
    "r": {
     "delete_cmd_postfix": ") ",
     "delete_cmd_prefix": "rm(",
     "library": "var_list.r",
     "varRefreshCmd": "cat(var_dic_list()) "
    }
   },
   "types_to_exclude": [
    "module",
    "function",
    "builtin_function_or_method",
    "instance",
    "_Feature"
   ],
   "window_display": false
  }
 },
 "nbformat": 4,
 "nbformat_minor": 5
}
