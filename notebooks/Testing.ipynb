{
 "cells": [
  {
   "cell_type": "code",
   "execution_count": 1,
   "id": "51158030",
   "metadata": {},
   "outputs": [
    {
     "name": "stderr",
     "output_type": "stream",
     "text": [
      "2022-08-31 10:12:59.923749: I tensorflow/core/util/util.cc:169] oneDNN custom operations are on. You may see slightly different numerical results due to floating-point round-off errors from different computation orders. To turn them off, set the environment variable `TF_ENABLE_ONEDNN_OPTS=0`.\n",
      "2022-08-31 10:12:59.952824: W tensorflow/stream_executor/platform/default/dso_loader.cc:64] Could not load dynamic library 'libcudart.so.11.0'; dlerror: libcudart.so.11.0: cannot open shared object file: No such file or directory\n",
      "2022-08-31 10:12:59.952862: I tensorflow/stream_executor/cuda/cudart_stub.cc:29] Ignore above cudart dlerror if you do not have a GPU set up on your machine.\n"
     ]
    }
   ],
   "source": [
    "from tensorflow.keras.models import load_model\n",
    "from tensorflow.keras.preprocessing.text import Tokenizer\n",
    "from tensorflow.keras.preprocessing.sequence import pad_sequences"
   ]
  },
  {
   "cell_type": "code",
   "execution_count": 2,
   "id": "3b78ad30",
   "metadata": {},
   "outputs": [],
   "source": [
    "import pandas as pd\n",
    "import numpy as np\n",
    "import os"
   ]
  },
  {
   "cell_type": "code",
   "execution_count": 3,
   "id": "1ec4d245",
   "metadata": {},
   "outputs": [],
   "source": [
    "import pickle"
   ]
  },
  {
   "cell_type": "code",
   "execution_count": 4,
   "id": "c0c19f27",
   "metadata": {},
   "outputs": [],
   "source": [
    "from nltk.stem import WordNetLemmatizer as wn\n",
    "from nltk.corpus import stopwords\n",
    "from nltk.tokenize import word_tokenize"
   ]
  },
  {
   "cell_type": "code",
   "execution_count": 5,
   "id": "42516bb1",
   "metadata": {},
   "outputs": [],
   "source": [
    "stop_words = stopwords.words('english')"
   ]
  },
  {
   "cell_type": "code",
   "execution_count": 6,
   "id": "be0baff7",
   "metadata": {},
   "outputs": [],
   "source": [
    "def lematize (words):\n",
    "    for index, word in enumerate (words):\n",
    "        words[index] = wn().lemmatize(word, pos='v')\n",
    "    for index, word in enumerate (words):\n",
    "        words[index] = wn().lemmatize(word, pos='r')\n",
    "    for index, word in enumerate (words):\n",
    "        words[index] = wn().lemmatize(word, pos='a')\n",
    "    for index, word in enumerate (words):\n",
    "        words[index] = wn().lemmatize(word, pos='n')\n",
    "    for index, word in enumerate (words):\n",
    "        words[index] = wn().lemmatize(word, pos='s')\n",
    "    return ' '.join(words)"
   ]
  },
  {
   "cell_type": "code",
   "execution_count": 136,
   "id": "317373d5",
   "metadata": {},
   "outputs": [],
   "source": [
    "def preprocessing(sentence):\n",
    "    sentence = sentence.strip()\n",
    "    \n",
    "    sentence = sentence.lower()\n",
    "    \n",
    "    sentence = ''.join(char for char in sentence if not char.isdigit())\n",
    "    \n",
    "    for punctuation in string.punctuation:\n",
    "        sentence = sentence.replace(punctuation, ' ') \n",
    "    \n",
    "    sentence = sentence.strip()\n",
    "    \n",
    "    sentence = word_tokenize (sentence)\n",
    "            \n",
    "    final = [word for word in sentence if word not in stop_words and len(word)>=3]\n",
    "    \n",
    "    lematize(final)\n",
    "            \n",
    "    return ' '.join(final)"
   ]
  },
  {
   "cell_type": "code",
   "execution_count": 8,
   "id": "b7f1b56e",
   "metadata": {},
   "outputs": [],
   "source": [
    "import string"
   ]
  },
  {
   "cell_type": "code",
   "execution_count": 9,
   "id": "e22be364",
   "metadata": {},
   "outputs": [
    {
     "name": "stderr",
     "output_type": "stream",
     "text": [
      "2022-08-31 10:13:03.055196: W tensorflow/stream_executor/platform/default/dso_loader.cc:64] Could not load dynamic library 'libcuda.so.1'; dlerror: libcuda.so.1: cannot open shared object file: No such file or directory\n",
      "2022-08-31 10:13:03.055302: W tensorflow/stream_executor/cuda/cuda_driver.cc:269] failed call to cuInit: UNKNOWN ERROR (303)\n",
      "2022-08-31 10:13:03.055344: I tensorflow/stream_executor/cuda/cuda_diagnostics.cc:156] kernel driver does not appear to be running on this host (LAPTOP-0UJ0SON8): /proc/driver/nvidia/version does not exist\n",
      "2022-08-31 10:13:03.056686: I tensorflow/core/platform/cpu_feature_guard.cc:193] This TensorFlow binary is optimized with oneAPI Deep Neural Network Library (oneDNN) to use the following CPU instructions in performance-critical operations:  AVX2 AVX512F AVX512_VNNI FMA\n",
      "To enable them in other operations, rebuild TensorFlow with the appropriate compiler flags.\n"
     ]
    }
   ],
   "source": [
    "model = load_model(os.path.join('../fake-news/models', 'notnewsfromnews.tf'))"
   ]
  },
  {
   "cell_type": "code",
   "execution_count": 10,
   "id": "1f1cf661",
   "metadata": {},
   "outputs": [],
   "source": [
    "# loading\n",
    "with open(os.path.join('../fake-news/tokenizers', 'notnewsfromnews.pickle'), 'rb') as handle:\n",
    "    tokenizer = pickle.load(handle)"
   ]
  },
  {
   "cell_type": "code",
   "execution_count": 11,
   "id": "64113c1f",
   "metadata": {},
   "outputs": [],
   "source": [
    "model2 = load_model(os.path.join('../fake-news/models', 'fakefromtrue.tf'))"
   ]
  },
  {
   "cell_type": "code",
   "execution_count": 12,
   "id": "bb0392b7",
   "metadata": {},
   "outputs": [],
   "source": [
    "# loading\n",
    "with open(os.path.join('../fake-news/tokenizers', 'fakefromtrue.pickle'), 'rb') as handle:\n",
    "    tokenizer2 = pickle.load(handle)"
   ]
  },
  {
   "cell_type": "code",
   "execution_count": 146,
   "id": "a3b3917b",
   "metadata": {},
   "outputs": [],
   "source": [
    "text = 'A humble backyard in the central Portugal city Pombal doesn’t sound like the kind of place where history is written. And yet, an international research team is hard at work at this site studying what may very well be fossils of the largest dinosaur species ever unearthed in Europe. The remains are believed to belong to a species of sauropod, a dinosaur that could grow to 12 meters in height and 25 meters in length. Building on bones The fossils were first discovered in 2017, when a local was carrying out a building project on his property in Pombal. While the work was underway, he noticed the fossils buried in his yard, and contacted the researchers. Excavation work at the site started the next year. In August of this year, these efforts finally yielded full fossils. So far, archeologists have unearthed a set of vertebrae and ribs, judging from which the specimen was a sauropod in the group Brachiosauridae, the researchers believe. This group of dinosaurs lived from the Upper Jurassic to the Late Cretaceous (160-100 million years ago), and stand out through their well-developed forelimbs. They were herbivorous dinosaurs with long necks and long tails, that walked on all fours. “It is not usual to find all the ribs of an animal like this, let alone in this position, maintaining their original anatomical position. This mode of preservation is relatively uncommon in the fossil record of dinosaurs, in particular sauropods, from the Portuguese Upper Jurassic”, says Elisabete Malafaia, Postdoctoral researcher at the Faculty of Sciences of the University of Lisbon (Ciências ULisboa), Portugal, in a press release.The team adds that the preservation quality of the bones found so far, as well as their relative positions, makes it very likely that there is more to this skeleton that hasn’t yet been discovered. As such, they plan on continuing their excavation campaigns in the following years. The preservation characteristics of the fossils and their disposition indicate the possible presence of other parts of the skeleton of this individual, a hypothesis that will be tested in future excavation campaigns in the deposit. “The research in the Monte Agudo paleontological locality confirms that the region of Pombal has an important fossil record of Late Jurassic vertebrates, which in the last decades has provided the discovery of abundant materials very significant for the knowledge of the continental faunas that inhabited the Iberian Peninsula at about 145 million years ago”, Malafaia adds.'"
   ]
  },
  {
   "cell_type": "code",
   "execution_count": 155,
   "id": "11a6987d",
   "metadata": {},
   "outputs": [],
   "source": [
    "text = 'Pakistani Prime Minister Shehbaz Sharif joined in relief efforts over the weekend, dropping off supplies from a helicopter in areas difficult to reach by boat or land, according to videos from his office. \"Visiting flood affected areas and meeting people. The magnitude of the calamity is bigger than estimated,\" Sharif said in a tweet on Saturday. \"Times demand that we come together as one nation in support of our people facing this calamity. Let us rise above our differences and stand by our people who need us today.\" After meeting with ambassadors and diplomats in Islamabad on Friday, he called for help from the international community. Residents gather beside a road damaged by flood waters following heavy monsoon rains in Charsadda district of Khyber Pakhtunkhwa on August 29, 2022. Residents gather beside a road damaged by flood waters following heavy monsoon rains in Charsadda district of Khyber Pakhtunkhwa on August 29, 2022. On Monday, Peter Ophoff, the IFRC head delegate in Pakistan said the aid network had appealed for more than $25 million to provide urgent relief for an estimated 324,000 people in the country. \"Looking at the incredible damage the floods have caused, it slowly becoming clear to us that relief efforts are going to take a very long time. It is going to be a long-waterlogged road ahead when the people of Pakistan began their journey back to what is remaining of their homes,\" Ophoff said. See volunteers use bedframe to rescue people from deadly floods 00:52 More than 3.1 million people had been displaced by the \"sea-like\" flood waters that have damaged more than half a million homes in multiple districts across the country, according to a statement Saturday from the International Federation of Red Cross and Red Crescent Societies (IFRC). Abrar ul Haq, chairman of the aid network in Pakistan, said Friday that water wasnt the only challenge for humanitarian workers in the region. \"These torrential floods have severely restricted transportation and mobility. The threat of Covid-19 and damage to vehicles, infrastructure and connectivity are further making our emergency relief works almost impossible. Most of those affected are also immobile or marooned making us hard to reach them,\" he said. Displaced people prepare for breakfast in their tents at a makeshift camp after fleeing from their flood-hit homes following heavy monsoon rains in Charsadda district of Khyber Pakhtunkhwa on August 29, 2022. Displaced people prepare for breakfast in their tents at a makeshift camp after fleeing from their flood-hit homes following heavy monsoon rains in Charsadda district of Khyber Pakhtunkhwa on August 29, 2022. Monster monsoon of the decade'"
   ]
  },
  {
   "cell_type": "code",
   "execution_count": 180,
   "id": "e6e2ca97",
   "metadata": {},
   "outputs": [],
   "source": [
    "text = 'Ukraines military claims to have broken through Russias first line of defence in the occupied Kherson region. The reported push appears to form part of a long-awaited offensive being launched by Kyiv in an attempt to retake the countrys south. It follows weeks of Ukrainian attacks aimed at cutting off Russian forces there from main supply routes. Russias military has not commented on Ukraines claim, but one official said this was \"yet another fake\". \"Ukrainian formations are suffering severe losses both in the south and in all other directions,\" said Sergei Aksyonov, the Moscow-installed head of Crimea - Ukraines southern peninsula annexed by Russia in 2014. The claims by both Ukraine and Russia have not been independently verified. Russia has occupied large swathes of Ukraines Kherson region since its invasion began on 24 February. On Monday, Ukraines Kakhovka operational group in the south said that one regiment of Russian-backed forces had left its positions in the Kherson region. It added that Russian paratroopers providing the back-up had fled the battlefield. Ukraines Hromadske TV said three of its sources in Ukraines military confirmed that the first line of defence had been broken. Meanwhile, Ukrainian army spokeswoman Natalia Humeniuk said \"any military operation requires silence regime\", urging Ukrainians to be patient. \"Our main efforts have been focused on destroying the enemys ammunition storage bases. More than 10 of such bases were destroyed over the past week,\" she said. But Ms Humeniuk refused to give any further details. In a Telegram post the Ukrainian military also claimed on Monday to have struck multiple targets in the region, including a factory in Beryslav and a Russian army post by the North Crimean Canal. Kyiv officials claim to have used US-supplied Himars rocket systems to destroy three bridges crossing the Dnipro River, strikes it said would cut the Russian forces occupying Kherson off from weapons and troop reinforcements. According to Western military sources, Kyivs strikes on the river crossings are part of a targeted effort to isolate Russian troops on the right (western) bank of the river with the ultimate goal of recapturing the entire Kherson region. Moscow relied on the bridges to resupply their troops stationed west of the Dnipro river, who are now at risk of becoming isolated from the rest of Russias occupying forces. Russian outlets also reported on Monday that Ukraine had struck targets in the Kherson region - but reported that the strikes had focused on civilian infrastructure. Moscow-appointed regional official Vladimir Leontyev claimed on Monday that Ukrainian forces had shelled a hydropower plant and floodway in the Kherson city of Novaya Kakhovka, according to Russias TASS news agency. Its forces also claimed to have shot down three ballistic missiles and 21 rockets reportedly fired by Ukrainian forces. Image shows map of Kherson region. Russia captured the city of Kherson and its surrounding region with relatively little resistance in the early days of the invasion. The southern city, which had a population of 290,000 before the war, is the only regional capital to have been taken by Russian forces and is currently administered by Moscow-backed officials. According to Russias Tass news agency, officials in Kherson city have started moving forward with plans to hold a referendum on formally joining Russia, prompting accusations by the US that Russia could be preparing to illegally annex parts of occupied southern Ukraine. Last month Russia said its military focus was no longer only on eastern Ukraine but on its southern regions of Kherson and Zaporizhzhia too. 2px presentational grey line. Analysis by BBCs Hugo Bachega in Kyiv. Ukraine has long been expected to launch a major offensive to retake Kherson. We could be seeing the beginning of it, although any operation is unlikely to be easy. Kherson has been under occupation since the early days of the war, and its one of the largest Ukrainian cities in Russian hands. For weeks, Ukrainian forces have repeatedly targeted Russian positions deep inside captured territory, away from the front lines. Its only been possible because of the sophisticated weapons supplied by the West - and its having a destabilising effect on the invading forces. The conflict seems to be at a deadlock, with neither side making significant gains. This could be about to change. 2px presentational grey line. In a separate development on Monday, Russian-installed officials in the Zaporizhzhia region claimed that a Ukrainian missile strike punched a hole in the roof of a fuel depot at the Zaporizhzhia nuclear power plant. The claim has not been independently verified. In recent weeks, both Ukraine and Russia have accused each other of shelling Europes biggest nuclear station, which was seized by Russia in early March. Moscow has kept Ukrainian personnel to operate the station. Last week, Ukrainian President Volodymyr Zelensky said the world narrowly avoided a radiation accident at the plant, blaming Moscows actions for this. An inspection team from the UN nuclear watchdog is expected to arrive at the plant later this week, the organisations head says.'"
   ]
  },
  {
   "cell_type": "code",
   "execution_count": 188,
   "id": "005e3bc7",
   "metadata": {},
   "outputs": [],
   "source": [
    "text = \"\"\"\n",
    "Pakistani Prime Minister Shehbaz Sharif joined in\n",
    "relief efforts over the weekend, dropping off supplies from a helicopter in\n",
    "areas difficult to reach by boat or land, according to videos from his office.\n",
    "“Visiting flood affected areas and meeting people. The magnitude of the calamity\n",
    "is bigger than estimated,” Sharif said in a tweet on Saturday. “Times demand\n",
    "that we come together as one nation in support of our people facing this\n",
    "calamity. Let us rise above our differences and stand by our people who need\n",
    "us today.” After meeting with ambassadors and diplomats in Islamabad on Friday,\n",
    "he called for help from the international community. Residents gather beside a\n",
    "road damaged by flood waters following heavy monsoon rains in Charsadda district\n",
    "of Khyber Pakhtunkhwa on August 29, 2022. Residents gather beside a road damaged\n",
    "by flood waters following heavy monsoon rains in Charsadda district of Khyber Pakhtunkhwa on August 29, 2022. On Monday, Peter Ophoff, the IFRC head delegate in Pakistan said the aid network had appealed for more than $25 million to provide urgent relief for an estimated 324,000 people in the country. “Looking at the incredible damage the floods have caused, it slowly becoming clear to us that relief efforts are going to take a very long time. It is going to be a long-waterlogged road ahead when the people of Pakistan began their journey back to what is remaining of their homes,” Ophoff said. See volunteers use bedframe to rescue people from deadly floods 00:52 More than 3.1 million people had been displaced by the “sea-like” flood waters that have damaged more than half a million homes in multiple districts across the country, according to a statement Saturday from the International Federation of Red Cross and Red Crescent Societies (IFRC). Abrar ul Haq, chairman of the aid network in Pakistan, said Friday that water wasnt the only challenge for humanitarian workers in the region. “These torrential floods have severely restricted transportation and mobility. The threat of Covid-19 and damage to vehicles, infrastructure and connectivity are further making our emergency relief works almost impossible. Most of those affected are also immobile or marooned making us hard to reach them,” he said. Displaced people prepare for breakfast in their tents at a makeshift camp after fleeing from their flood-hit homes following heavy monsoon rains in Charsadda district of Khyber Pakhtunkhwa on August 29, 2022. Displaced people prepare for breakfast in their tents at a makeshift camp after fleeing from their flood-hit homes following heavy monsoon rains in Charsadda district of Khyber\n",
    "Pakhtunkhwa on August 29, 2022. Monster monsoon of the decade\n",
    "\"\"\""
   ]
  },
  {
   "cell_type": "code",
   "execution_count": 189,
   "id": "7d1b171e",
   "metadata": {},
   "outputs": [],
   "source": [
    "text = preprocessing(text) #text.apply(preprocessing)"
   ]
  },
  {
   "cell_type": "code",
   "execution_count": 164,
   "id": "25090b00",
   "metadata": {},
   "outputs": [],
   "source": [
    "#truenews\n",
    "text = 'budget fight loom republican flip fiscal script washington reuters head conservative republican faction congress vote month huge expansion national debt pay tax cut call fiscal conservative sunday urge budget restraint keep sharp pivot way among republican representative mark meadow speak cbs face nation draw hard line federal spend lawmaker brace battle january return holiday wednesday lawmaker begin try pas federal budget fight likely link issue immigration policy even november congressional election campaign approach republican seek keep control congress president donald trump his republican want big budget increase military spend democrat also want proportional increase non defense discretionary spend program support education scientific research infrastructure public health environmental protection trump administration already will say go increase non defense discretionary spend percent meadow chairman small influential house freedom caucus say program democrat say enough need give government pay raise percent fiscal conservative don see rationale eventually run other people money say meadow among republican vote late december party debt finance tax overhaul expect balloon federal budget deficit add trillion year trillion national debt interest hear mark talk about fiscal responsibility democratic representative joseph crowley say cbs crowley say republican tax bill would require unite state borrow trillion pay future generation finance tax cut corporation rich be one least fiscally responsible bill ve ever see pas history house representative think go pay this many many year come crowley say republican insist tax package big u s tax overhaul than year boost economy job growth house speaker paul ryan also support tax bill recently go than meadow make clear radio interview welfare entitlement reform party often call would top republican priority republican parlance entitlement program mean food stamp house assistance medicare medicaid health insurance elderly poor disable well other program create washington assist needy democrat seize ryan s early december remark say they show republican would try pay their tax overhaul seek spend cut social program goal house republican may take back seat senate the vote some democrat need approve budget prevent government shutdown democrat use their leverage the senate republican narrowly control defend discretionary non defense program social spend tackle the issue the dreamer people bring illegally the country child trump september put march expiration date the defer action childhood arrival daca program protect the young immigrant deportation provide work permit the president say recent twitter message want fund his propose mexican border wall other immigration law change exchange agree help the dreamer representative debbie dingell tell cbs do favor link issue other policy objective wall fund need daca clean say wednesday trump aid meet congressional leader discus issue will follow weekend strategy session trump republican leader jan the white house say trump also schedule meet sunday with florida republican governor rick scott want emergency aid the house pas billion aid package hurricane florida texas puerto rico and wildfire california the package far exceed the billion request the trump administration the senate not yet vote the aid'"
   ]
  },
  {
   "cell_type": "code",
   "execution_count": 172,
   "id": "00714825",
   "metadata": {},
   "outputs": [],
   "source": [
    "#fakenews\n",
    "text = 'donald trump send embarrass new year eve message disturb donald trump wish american happy new year leave instead give shout enemy hater dishonest fake news medium former reality show star have just one job couldn it our country rapidly grow strong smart want wish friend supporter enemy hater even very dishonest fake news medium happy healthy new year president angry pant tweet be great year america our country rapidly grow strong smart want wish friend supporter enemy hater even very dishonest fake news medium happy healthy new year be great year america donald j trump realdonaldtrump december trump tweet go about welll expect kind president send new year greet like despicable petty infantile gibberish trump lack decency t even allow rise gutter long enough wish american citizen happy new year bishop talbert swan talbertswan december one like calvin calvinstowell december impeachment would make great year america i also accept regain control of congress miranda yaver mirandayaver december hear talk include many people hate you you to wonder do hate alan sandoval alansandoval december use the word hater new year wish marlene marlene december you can t just say happy new year koren pollitt korencarpenter december trump new year eve tweet happy new year to include to my many enemy those have fight lose badly they just t know to do love donald j trump realdonaldtrump december be nothing new trump do year trump direct message to enemy hater new year s easter thanksgiving the anniversary of pic twitter com fpaekypa daniel dale ddale december trump s holiday tweet clearly presidential long work at hallmark become president steven goodine sgoodine december s always like the difference be that the last year his filter be break roy schulze thbthttt december apart teenager use the term hater wendy wendywhistles december s fuck year old know rainyday december to all the people vote for this a hole think he would change he get power you be wrong year old men t change and now he s a year old photo andrew burton getty image'"
   ]
  },
  {
   "cell_type": "code",
   "execution_count": 190,
   "id": "3bd80162",
   "metadata": {},
   "outputs": [],
   "source": [
    "text_token = tokenizer.texts_to_sequences([text])\n",
    "text_token = pad_sequences(text_token, dtype='int32', padding='post', maxlen=300)"
   ]
  },
  {
   "cell_type": "code",
   "execution_count": 191,
   "id": "88e5c93d",
   "metadata": {},
   "outputs": [
    {
     "data": {
      "text/plain": [
       "(1, 300)"
      ]
     },
     "execution_count": 191,
     "metadata": {},
     "output_type": "execute_result"
    }
   ],
   "source": [
    "text_token.shape"
   ]
  },
  {
   "cell_type": "code",
   "execution_count": 192,
   "id": "2393a574",
   "metadata": {},
   "outputs": [],
   "source": [
    "text_token2 = tokenizer2.texts_to_sequences([text])\n",
    "text_token2 = pad_sequences(text_token2, dtype='int32', padding='post', maxlen=300)"
   ]
  },
  {
   "cell_type": "code",
   "execution_count": 193,
   "id": "4b443fe0",
   "metadata": {},
   "outputs": [
    {
     "data": {
      "text/plain": [
       "(1, 300)"
      ]
     },
     "execution_count": 193,
     "metadata": {},
     "output_type": "execute_result"
    }
   ],
   "source": [
    "text_token2.shape"
   ]
  },
  {
   "cell_type": "code",
   "execution_count": 198,
   "id": "a4e9f9bb",
   "metadata": {},
   "outputs": [
    {
     "name": "stdout",
     "output_type": "stream",
     "text": [
      "1/1 [==============================] - 0s 20ms/step\n"
     ]
    },
    {
     "data": {
      "text/plain": [
       "array([[1.]], dtype=float32)"
      ]
     },
     "execution_count": 198,
     "metadata": {},
     "output_type": "execute_result"
    }
   ],
   "source": [
    "model.predict (text_token)"
   ]
  },
  {
   "cell_type": "code",
   "execution_count": 200,
   "id": "2937e3f0",
   "metadata": {},
   "outputs": [
    {
     "name": "stdout",
     "output_type": "stream",
     "text": [
      "1/1 [==============================] - 0s 27ms/step\n"
     ]
    },
    {
     "data": {
      "text/plain": [
       "array([[0.95120436]], dtype=float32)"
      ]
     },
     "execution_count": 200,
     "metadata": {},
     "output_type": "execute_result"
    }
   ],
   "source": [
    "model2.predict (text_token2)"
   ]
  },
  {
   "cell_type": "code",
   "execution_count": 179,
   "id": "f9533de7",
   "metadata": {},
   "outputs": [
    {
     "name": "stdout",
     "output_type": "stream",
     "text": [
      "1/1 [==============================] - 0s 23ms/step\n",
      "maior que 0,5\n",
      "This is news\n",
      "1/1 [==============================] - 0s 23ms/step\n",
      "This news is fake\n",
      "menor que 0,5\n"
     ]
    }
   ],
   "source": [
    "if model.predict (text_token[[0]]) > 0.5:\n",
    "    print('maior que 0,5')\n",
    "    print( 'This is news')\n",
    "    #model2 = load_model(os.path.join('../fake-news/models', 'fakefromtrue.tf'))\n",
    "    if model2.predict (text_token2[[0]]) > 0.5:\n",
    "        print('maior que 0,5')\n",
    "        print( 'This news is true')\n",
    "    else: \n",
    "        print( 'This news is fake')\n",
    "        print('menor que 0,5')\n",
    "else: \n",
    "    print( 'This is not news')\n",
    "    print('menor que 0,5')"
   ]
  },
  {
   "cell_type": "code",
   "execution_count": 75,
   "id": "88f621c2",
   "metadata": {},
   "outputs": [
    {
     "name": "stdout",
     "output_type": "stream",
     "text": [
      "1/1 [==============================] - 0s 17ms/step\n",
      "This news is fake\n",
      "menor que 0,5\n"
     ]
    }
   ],
   "source": [
    "if model2.predict (text_token2[[0]]) > 0.5:\n",
    "    print('maior que 0,5')\n",
    "    print( 'This news is true')\n",
    "else: \n",
    "    print( 'This news is fake')\n",
    "    print('menor que 0,5')"
   ]
  },
  {
   "cell_type": "code",
   "execution_count": null,
   "id": "fc135f30",
   "metadata": {},
   "outputs": [],
   "source": []
  }
 ],
 "metadata": {
  "kernelspec": {
   "display_name": "Python 3 (ipykernel)",
   "language": "python",
   "name": "python3"
  },
  "language_info": {
   "codemirror_mode": {
    "name": "ipython",
    "version": 3
   },
   "file_extension": ".py",
   "mimetype": "text/x-python",
   "name": "python",
   "nbconvert_exporter": "python",
   "pygments_lexer": "ipython3",
   "version": "3.8.12"
  },
  "toc": {
   "base_numbering": 1,
   "nav_menu": {},
   "number_sections": true,
   "sideBar": true,
   "skip_h1_title": false,
   "title_cell": "Table of Contents",
   "title_sidebar": "Contents",
   "toc_cell": false,
   "toc_position": {},
   "toc_section_display": true,
   "toc_window_display": false
  },
  "varInspector": {
   "cols": {
    "lenName": 16,
    "lenType": 16,
    "lenVar": 40
   },
   "kernels_config": {
    "python": {
     "delete_cmd_postfix": "",
     "delete_cmd_prefix": "del ",
     "library": "var_list.py",
     "varRefreshCmd": "print(var_dic_list())"
    },
    "r": {
     "delete_cmd_postfix": ") ",
     "delete_cmd_prefix": "rm(",
     "library": "var_list.r",
     "varRefreshCmd": "cat(var_dic_list()) "
    }
   },
   "types_to_exclude": [
    "module",
    "function",
    "builtin_function_or_method",
    "instance",
    "_Feature"
   ],
   "window_display": false
  }
 },
 "nbformat": 4,
 "nbformat_minor": 5
}
