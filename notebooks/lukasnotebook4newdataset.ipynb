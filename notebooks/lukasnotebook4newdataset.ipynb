{
 "cells": [
  {
   "cell_type": "markdown",
   "id": "aba1e770",
   "metadata": {},
   "source": [
    "# Imports"
   ]
  },
  {
   "cell_type": "code",
   "execution_count": 3,
   "id": "6b24afc7",
   "metadata": {},
   "outputs": [],
   "source": [
    "import os\n",
    "import pandas as pd"
   ]
  },
  {
   "cell_type": "code",
   "execution_count": 4,
   "id": "6737c195",
   "metadata": {},
   "outputs": [],
   "source": [
    "#csv_path = '../content/sample_data' # google colab path\n",
    "csv_path = '../raw_data' # our pc path\n",
    "cleanfake = pd.read_csv(os.path.join(csv_path, 'clean_data_Fake.csv'))\n",
    "cleantrue = pd.read_csv(os.path.join(csv_path, 'clean_data_True.csv'))"
   ]
  },
  {
   "cell_type": "code",
   "execution_count": 5,
   "id": "b160a2ec",
   "metadata": {},
   "outputs": [
    {
     "data": {
      "text/html": [
       "<div>\n",
       "<style scoped>\n",
       "    .dataframe tbody tr th:only-of-type {\n",
       "        vertical-align: middle;\n",
       "    }\n",
       "\n",
       "    .dataframe tbody tr th {\n",
       "        vertical-align: top;\n",
       "    }\n",
       "\n",
       "    .dataframe thead th {\n",
       "        text-align: right;\n",
       "    }\n",
       "</style>\n",
       "<table border=\"1\" class=\"dataframe\">\n",
       "  <thead>\n",
       "    <tr style=\"text-align: right;\">\n",
       "      <th></th>\n",
       "      <th>text</th>\n",
       "      <th>target</th>\n",
       "    </tr>\n",
       "  </thead>\n",
       "  <tbody>\n",
       "    <tr>\n",
       "      <th>0</th>\n",
       "      <td>donald trump send embarrass new year eve messa...</td>\n",
       "      <td>0</td>\n",
       "    </tr>\n",
       "    <tr>\n",
       "      <th>1</th>\n",
       "      <td>drink brag trump staffer start russian collusi...</td>\n",
       "      <td>0</td>\n",
       "    </tr>\n",
       "    <tr>\n",
       "      <th>2</th>\n",
       "      <td>sheriff david clarke become internet joke thre...</td>\n",
       "      <td>0</td>\n",
       "    </tr>\n",
       "    <tr>\n",
       "      <th>3</th>\n",
       "      <td>trump so ob even obama name cod website image ...</td>\n",
       "      <td>0</td>\n",
       "    </tr>\n",
       "    <tr>\n",
       "      <th>4</th>\n",
       "      <td>pope francis call donald trump christmas speec...</td>\n",
       "      <td>0</td>\n",
       "    </tr>\n",
       "    <tr>\n",
       "      <th>...</th>\n",
       "      <td>...</td>\n",
       "      <td>...</td>\n",
       "    </tr>\n",
       "    <tr>\n",
       "      <th>23476</th>\n",
       "      <td>mcpain john mccain furious iran treat u sailor...</td>\n",
       "      <td>0</td>\n",
       "    </tr>\n",
       "    <tr>\n",
       "      <th>23477</th>\n",
       "      <td>justice yahoo settle e mail privacy class acti...</td>\n",
       "      <td>0</td>\n",
       "    </tr>\n",
       "    <tr>\n",
       "      <th>23478</th>\n",
       "      <td>sunnistan u ally safe zone plan take territori...</td>\n",
       "      <td>0</td>\n",
       "    </tr>\n",
       "    <tr>\n",
       "      <th>23479</th>\n",
       "      <td>blow million al jazeera america finally call q...</td>\n",
       "      <td>0</td>\n",
       "    </tr>\n",
       "    <tr>\n",
       "      <th>23480</th>\n",
       "      <td>u navy sailor hold iranian military – sign neo...</td>\n",
       "      <td>0</td>\n",
       "    </tr>\n",
       "  </tbody>\n",
       "</table>\n",
       "<p>23481 rows × 2 columns</p>\n",
       "</div>"
      ],
      "text/plain": [
       "                                                    text  target\n",
       "0      donald trump send embarrass new year eve messa...       0\n",
       "1      drink brag trump staffer start russian collusi...       0\n",
       "2      sheriff david clarke become internet joke thre...       0\n",
       "3      trump so ob even obama name cod website image ...       0\n",
       "4      pope francis call donald trump christmas speec...       0\n",
       "...                                                  ...     ...\n",
       "23476  mcpain john mccain furious iran treat u sailor...       0\n",
       "23477  justice yahoo settle e mail privacy class acti...       0\n",
       "23478  sunnistan u ally safe zone plan take territori...       0\n",
       "23479  blow million al jazeera america finally call q...       0\n",
       "23480  u navy sailor hold iranian military – sign neo...       0\n",
       "\n",
       "[23481 rows x 2 columns]"
      ]
     },
     "execution_count": 5,
     "metadata": {},
     "output_type": "execute_result"
    }
   ],
   "source": [
    "cleanfake"
   ]
  },
  {
   "cell_type": "code",
   "execution_count": 6,
   "id": "56642895",
   "metadata": {
    "scrolled": false
   },
   "outputs": [
    {
     "data": {
      "text/html": [
       "<div>\n",
       "<style scoped>\n",
       "    .dataframe tbody tr th:only-of-type {\n",
       "        vertical-align: middle;\n",
       "    }\n",
       "\n",
       "    .dataframe tbody tr th {\n",
       "        vertical-align: top;\n",
       "    }\n",
       "\n",
       "    .dataframe thead th {\n",
       "        text-align: right;\n",
       "    }\n",
       "</style>\n",
       "<table border=\"1\" class=\"dataframe\">\n",
       "  <thead>\n",
       "    <tr style=\"text-align: right;\">\n",
       "      <th></th>\n",
       "      <th>text</th>\n",
       "      <th>target</th>\n",
       "    </tr>\n",
       "  </thead>\n",
       "  <tbody>\n",
       "    <tr>\n",
       "      <th>0</th>\n",
       "      <td>budget fight loom republican flip fiscal scrip...</td>\n",
       "      <td>0</td>\n",
       "    </tr>\n",
       "    <tr>\n",
       "      <th>1</th>\n",
       "      <td>military accept transgender recruit monday pen...</td>\n",
       "      <td>0</td>\n",
       "    </tr>\n",
       "    <tr>\n",
       "      <th>2</th>\n",
       "      <td>senior republican senator let mueller job wash...</td>\n",
       "      <td>0</td>\n",
       "    </tr>\n",
       "    <tr>\n",
       "      <th>3</th>\n",
       "      <td>fbi russia probe help australian diplomat tip ...</td>\n",
       "      <td>0</td>\n",
       "    </tr>\n",
       "    <tr>\n",
       "      <th>4</th>\n",
       "      <td>trump want postal service charge much amazon s...</td>\n",
       "      <td>0</td>\n",
       "    </tr>\n",
       "    <tr>\n",
       "      <th>...</th>\n",
       "      <td>...</td>\n",
       "      <td>...</td>\n",
       "    </tr>\n",
       "    <tr>\n",
       "      <th>21412</th>\n",
       "      <td>fully commit nato back new approach afghanista...</td>\n",
       "      <td>0</td>\n",
       "    </tr>\n",
       "    <tr>\n",
       "      <th>21413</th>\n",
       "      <td>lexisnexis withdraw two product chinese market...</td>\n",
       "      <td>0</td>\n",
       "    </tr>\n",
       "    <tr>\n",
       "      <th>21414</th>\n",
       "      <td>minsk cultural hub become from authority minsk...</td>\n",
       "      <td>0</td>\n",
       "    </tr>\n",
       "    <tr>\n",
       "      <th>21415</th>\n",
       "      <td>vatican upbeat possibility pope francis visit ...</td>\n",
       "      <td>0</td>\n",
       "    </tr>\n",
       "    <tr>\n",
       "      <th>21416</th>\n",
       "      <td>indonesia buy billion worth russian jet jakart...</td>\n",
       "      <td>0</td>\n",
       "    </tr>\n",
       "  </tbody>\n",
       "</table>\n",
       "<p>21417 rows × 2 columns</p>\n",
       "</div>"
      ],
      "text/plain": [
       "                                                    text  target\n",
       "0      budget fight loom republican flip fiscal scrip...       0\n",
       "1      military accept transgender recruit monday pen...       0\n",
       "2      senior republican senator let mueller job wash...       0\n",
       "3      fbi russia probe help australian diplomat tip ...       0\n",
       "4      trump want postal service charge much amazon s...       0\n",
       "...                                                  ...     ...\n",
       "21412  fully commit nato back new approach afghanista...       0\n",
       "21413  lexisnexis withdraw two product chinese market...       0\n",
       "21414  minsk cultural hub become from authority minsk...       0\n",
       "21415  vatican upbeat possibility pope francis visit ...       0\n",
       "21416  indonesia buy billion worth russian jet jakart...       0\n",
       "\n",
       "[21417 rows x 2 columns]"
      ]
     },
     "execution_count": 6,
     "metadata": {},
     "output_type": "execute_result"
    }
   ],
   "source": [
    "cleantrue"
   ]
  },
  {
   "cell_type": "code",
   "execution_count": 7,
   "id": "c20a464c",
   "metadata": {},
   "outputs": [
    {
     "data": {
      "text/html": [
       "<div>\n",
       "<style scoped>\n",
       "    .dataframe tbody tr th:only-of-type {\n",
       "        vertical-align: middle;\n",
       "    }\n",
       "\n",
       "    .dataframe tbody tr th {\n",
       "        vertical-align: top;\n",
       "    }\n",
       "\n",
       "    .dataframe thead th {\n",
       "        text-align: right;\n",
       "    }\n",
       "</style>\n",
       "<table border=\"1\" class=\"dataframe\">\n",
       "  <thead>\n",
       "    <tr style=\"text-align: right;\">\n",
       "      <th></th>\n",
       "      <th>text</th>\n",
       "      <th>target</th>\n",
       "    </tr>\n",
       "  </thead>\n",
       "  <tbody>\n",
       "    <tr>\n",
       "      <th>0</th>\n",
       "      <td>budget fight loom republican flip fiscal scrip...</td>\n",
       "      <td>1</td>\n",
       "    </tr>\n",
       "    <tr>\n",
       "      <th>1</th>\n",
       "      <td>military accept transgender recruit monday pen...</td>\n",
       "      <td>1</td>\n",
       "    </tr>\n",
       "    <tr>\n",
       "      <th>2</th>\n",
       "      <td>senior republican senator let mueller job wash...</td>\n",
       "      <td>1</td>\n",
       "    </tr>\n",
       "    <tr>\n",
       "      <th>3</th>\n",
       "      <td>fbi russia probe help australian diplomat tip ...</td>\n",
       "      <td>1</td>\n",
       "    </tr>\n",
       "    <tr>\n",
       "      <th>4</th>\n",
       "      <td>trump want postal service charge much amazon s...</td>\n",
       "      <td>1</td>\n",
       "    </tr>\n",
       "    <tr>\n",
       "      <th>...</th>\n",
       "      <td>...</td>\n",
       "      <td>...</td>\n",
       "    </tr>\n",
       "    <tr>\n",
       "      <th>21412</th>\n",
       "      <td>fully commit nato back new approach afghanista...</td>\n",
       "      <td>1</td>\n",
       "    </tr>\n",
       "    <tr>\n",
       "      <th>21413</th>\n",
       "      <td>lexisnexis withdraw two product chinese market...</td>\n",
       "      <td>1</td>\n",
       "    </tr>\n",
       "    <tr>\n",
       "      <th>21414</th>\n",
       "      <td>minsk cultural hub become from authority minsk...</td>\n",
       "      <td>1</td>\n",
       "    </tr>\n",
       "    <tr>\n",
       "      <th>21415</th>\n",
       "      <td>vatican upbeat possibility pope francis visit ...</td>\n",
       "      <td>1</td>\n",
       "    </tr>\n",
       "    <tr>\n",
       "      <th>21416</th>\n",
       "      <td>indonesia buy billion worth russian jet jakart...</td>\n",
       "      <td>1</td>\n",
       "    </tr>\n",
       "  </tbody>\n",
       "</table>\n",
       "<p>21417 rows × 2 columns</p>\n",
       "</div>"
      ],
      "text/plain": [
       "                                                    text  target\n",
       "0      budget fight loom republican flip fiscal scrip...       1\n",
       "1      military accept transgender recruit monday pen...       1\n",
       "2      senior republican senator let mueller job wash...       1\n",
       "3      fbi russia probe help australian diplomat tip ...       1\n",
       "4      trump want postal service charge much amazon s...       1\n",
       "...                                                  ...     ...\n",
       "21412  fully commit nato back new approach afghanista...       1\n",
       "21413  lexisnexis withdraw two product chinese market...       1\n",
       "21414  minsk cultural hub become from authority minsk...       1\n",
       "21415  vatican upbeat possibility pope francis visit ...       1\n",
       "21416  indonesia buy billion worth russian jet jakart...       1\n",
       "\n",
       "[21417 rows x 2 columns]"
      ]
     },
     "execution_count": 7,
     "metadata": {},
     "output_type": "execute_result"
    }
   ],
   "source": [
    "cleantrue['target'] = 1\n",
    "cleantrue"
   ]
  },
  {
   "cell_type": "code",
   "execution_count": 8,
   "id": "caa0377c",
   "metadata": {},
   "outputs": [
    {
     "name": "stderr",
     "output_type": "stream",
     "text": [
      "2022-08-25 17:48:49.682158: I tensorflow/core/util/util.cc:169] oneDNN custom operations are on. You may see slightly different numerical results due to floating-point round-off errors from different computation orders. To turn them off, set the environment variable `TF_ENABLE_ONEDNN_OPTS=0`.\n",
      "2022-08-25 17:48:49.791110: W tensorflow/stream_executor/platform/default/dso_loader.cc:64] Could not load dynamic library 'libcudart.so.11.0'; dlerror: libcudart.so.11.0: cannot open shared object file: No such file or directory\n",
      "2022-08-25 17:48:49.791133: I tensorflow/stream_executor/cuda/cudart_stub.cc:29] Ignore above cudart dlerror if you do not have a GPU set up on your machine.\n"
     ]
    }
   ],
   "source": [
    "from tensorflow.keras.preprocessing.text import Tokenizer\n",
    "from tensorflow.keras.preprocessing.sequence import pad_sequences\n",
    "from tensorflow.keras.models import Sequential\n",
    "from tensorflow.keras.optimizers import RMSprop\n",
    "from tensorflow.keras.metrics import Precision, Recall, BinaryAccuracy\n",
    "from tensorflow.keras.layers import Dense, Conv1D, Embedding, Flatten, Masking, Dropout, LSTM, GRU\n",
    "from tensorflow.keras.callbacks import EarlyStopping\n",
    "from sklearn.model_selection import train_test_split\n",
    "from gensim.models import Word2Vec\n",
    "import gensim.downloader as api\n",
    "import numpy as np\n",
    "import matplotlib.pyplot as plt\n",
    "import seaborn as sns\n",
    "%matplotlib inline"
   ]
  },
  {
   "cell_type": "markdown",
   "id": "ff1b6116",
   "metadata": {},
   "source": [
    "# Variables"
   ]
  },
  {
   "cell_type": "code",
   "execution_count": 9,
   "id": "066a7779",
   "metadata": {},
   "outputs": [],
   "source": [
    "es = EarlyStopping(monitor='val_binary_accuracy', patience=10, restore_best_weights=True)"
   ]
  },
  {
   "cell_type": "code",
   "execution_count": 10,
   "id": "15e2ece9",
   "metadata": {},
   "outputs": [
    {
     "name": "stderr",
     "output_type": "stream",
     "text": [
      "2022-08-25 17:48:55.300904: W tensorflow/stream_executor/platform/default/dso_loader.cc:64] Could not load dynamic library 'libcuda.so.1'; dlerror: libcuda.so.1: cannot open shared object file: No such file or directory\n",
      "2022-08-25 17:48:55.300967: W tensorflow/stream_executor/cuda/cuda_driver.cc:269] failed call to cuInit: UNKNOWN ERROR (303)\n",
      "2022-08-25 17:48:55.301129: I tensorflow/stream_executor/cuda/cuda_diagnostics.cc:156] kernel driver does not appear to be running on this host (LAPTOP-0UJ0SON8): /proc/driver/nvidia/version does not exist\n",
      "2022-08-25 17:48:55.302090: I tensorflow/core/platform/cpu_feature_guard.cc:193] This TensorFlow binary is optimized with oneAPI Deep Neural Network Library (oneDNN) to use the following CPU instructions in performance-critical operations:  AVX2 AVX512F AVX512_VNNI FMA\n",
      "To enable them in other operations, rebuild TensorFlow with the appropriate compiler flags.\n"
     ]
    }
   ],
   "source": [
    "binacc = BinaryAccuracy()\n",
    "prec = Precision()\n",
    "rec = Recall()"
   ]
  },
  {
   "cell_type": "code",
   "execution_count": 14,
   "id": "5ac52a38",
   "metadata": {},
   "outputs": [],
   "source": [
    "fulldf = pd.concat ([cleanfake, cleantrue], ignore_index=True)\n",
    "fulldf = fulldf.sample(n=len(fulldf), ignore_index=True)"
   ]
  },
  {
   "cell_type": "code",
   "execution_count": 15,
   "id": "69676d73",
   "metadata": {
    "scrolled": false
   },
   "outputs": [
    {
     "data": {
      "text/html": [
       "<div>\n",
       "<style scoped>\n",
       "    .dataframe tbody tr th:only-of-type {\n",
       "        vertical-align: middle;\n",
       "    }\n",
       "\n",
       "    .dataframe tbody tr th {\n",
       "        vertical-align: top;\n",
       "    }\n",
       "\n",
       "    .dataframe thead th {\n",
       "        text-align: right;\n",
       "    }\n",
       "</style>\n",
       "<table border=\"1\" class=\"dataframe\">\n",
       "  <thead>\n",
       "    <tr style=\"text-align: right;\">\n",
       "      <th></th>\n",
       "      <th>text</th>\n",
       "      <th>target</th>\n",
       "    </tr>\n",
       "  </thead>\n",
       "  <tbody>\n",
       "    <tr>\n",
       "      <th>0</th>\n",
       "      <td>uk leader criticize president trump tweet isla...</td>\n",
       "      <td>0</td>\n",
       "    </tr>\n",
       "    <tr>\n",
       "      <th>1</th>\n",
       "      <td>obama start work pick supreme court justice am...</td>\n",
       "      <td>1</td>\n",
       "    </tr>\n",
       "    <tr>\n",
       "      <th>2</th>\n",
       "      <td>rare behind scene look president trump visit n...</td>\n",
       "      <td>0</td>\n",
       "    </tr>\n",
       "    <tr>\n",
       "      <th>3</th>\n",
       "      <td>eric trump remove doubt international business...</td>\n",
       "      <td>0</td>\n",
       "    </tr>\n",
       "    <tr>\n",
       "      <th>4</th>\n",
       "      <td>south africa anc want avoid split vote senior ...</td>\n",
       "      <td>1</td>\n",
       "    </tr>\n",
       "    <tr>\n",
       "      <th>...</th>\n",
       "      <td>...</td>\n",
       "      <td>...</td>\n",
       "    </tr>\n",
       "    <tr>\n",
       "      <th>44893</th>\n",
       "      <td>swedish airport explosive suspect release with...</td>\n",
       "      <td>1</td>\n",
       "    </tr>\n",
       "    <tr>\n",
       "      <th>44894</th>\n",
       "      <td>shout poll protester allow shut political rall...</td>\n",
       "      <td>0</td>\n",
       "    </tr>\n",
       "    <tr>\n",
       "      <th>44895</th>\n",
       "      <td>yet jill stein file federal lawsuit pennsylvan...</td>\n",
       "      <td>0</td>\n",
       "    </tr>\n",
       "    <tr>\n",
       "      <th>44896</th>\n",
       "      <td>break president trump make national security a...</td>\n",
       "      <td>0</td>\n",
       "    </tr>\n",
       "    <tr>\n",
       "      <th>44897</th>\n",
       "      <td>saudi back fighter capture coastal area yemen ...</td>\n",
       "      <td>1</td>\n",
       "    </tr>\n",
       "  </tbody>\n",
       "</table>\n",
       "<p>44898 rows × 2 columns</p>\n",
       "</div>"
      ],
      "text/plain": [
       "                                                    text  target\n",
       "0      uk leader criticize president trump tweet isla...       0\n",
       "1      obama start work pick supreme court justice am...       1\n",
       "2      rare behind scene look president trump visit n...       0\n",
       "3      eric trump remove doubt international business...       0\n",
       "4      south africa anc want avoid split vote senior ...       1\n",
       "...                                                  ...     ...\n",
       "44893  swedish airport explosive suspect release with...       1\n",
       "44894  shout poll protester allow shut political rall...       0\n",
       "44895  yet jill stein file federal lawsuit pennsylvan...       0\n",
       "44896  break president trump make national security a...       0\n",
       "44897  saudi back fighter capture coastal area yemen ...       1\n",
       "\n",
       "[44898 rows x 2 columns]"
      ]
     },
     "execution_count": 15,
     "metadata": {},
     "output_type": "execute_result"
    }
   ],
   "source": [
    "fulldf"
   ]
  },
  {
   "cell_type": "markdown",
   "id": "d9aa61f8",
   "metadata": {},
   "source": [
    "# Functions"
   ]
  },
  {
   "cell_type": "code",
   "execution_count": 11,
   "id": "52d1d1f0",
   "metadata": {},
   "outputs": [],
   "source": [
    "def plot_loss_accuracy(history, title):\n",
    "    fig, ((ax1, ax2), (ax3, ax4)) = plt.subplots(2,2, figsize=(15,10))\n",
    "    \n",
    "    ax1.plot(history.history['loss'])\n",
    "    ax1.plot(history.history['val_loss'])\n",
    "    ax1.set_title(f'{title} Loss')\n",
    "    ax1.set_ylabel('Loss')\n",
    "    ax1.set_xlabel('Epoch')\n",
    "    ax1.set_ylim(ymin=0, ymax=2)\n",
    "    ax1.legend(['Train', 'Validation'], loc='best')\n",
    "    ax1.grid(axis=\"x\",linewidth=0.5)\n",
    "    ax1.grid(axis=\"y\",linewidth=0.5)    \n",
    "    \n",
    "    ax2.plot(history.history['binary_accuracy'])\n",
    "    ax2.plot(history.history['val_binary_accuracy'])\n",
    "    ax2.set_title(f'{title} Accuracy')\n",
    "    ax2.set_ylabel('Accuracy')\n",
    "    ax2.set_xlabel('Epoch')\n",
    "    ax2.set_ylim(ymin=0, ymax=2)\n",
    "    ax2.legend(['Train', 'Validation'], loc='best')\n",
    "    ax2.grid(axis=\"x\",linewidth=0.5)\n",
    "    ax2.grid(axis=\"y\",linewidth=0.5)    \n",
    "\n",
    "    ax3.plot(history.history['precision'])\n",
    "    ax3.plot(history.history['val_precision'])\n",
    "    ax3.set_title(f'{title} Precision')\n",
    "    ax3.set_ylabel('Precision')\n",
    "    ax3.set_xlabel('Epoch')\n",
    "    ax3.set_ylim(ymin=0, ymax=2)\n",
    "    ax3.legend(['Train', 'Validation'], loc='best')\n",
    "    ax3.grid(axis=\"x\",linewidth=0.5)\n",
    "    ax3.grid(axis=\"y\",linewidth=0.5)    \n",
    "    \n",
    "    ax4.plot(history.history['recall'])\n",
    "    ax4.plot(history.history['val_recall'])\n",
    "    ax4.set_title(f'{title} Recall')\n",
    "    ax4.set_ylabel('Recall')\n",
    "    ax4.set_xlabel('Epoch')\n",
    "    ax4.set_ylim(ymin=0, ymax=2)\n",
    "    ax4.legend(['Train', 'Validation'], loc='best')\n",
    "    ax4.grid(axis=\"x\",linewidth=0.5)\n",
    "    ax4.grid(axis=\"y\",linewidth=0.5)  \n",
    "    \n",
    "    plt.show()"
   ]
  },
  {
   "cell_type": "code",
   "execution_count": 12,
   "id": "5b972eab",
   "metadata": {},
   "outputs": [],
   "source": [
    "def initialize_model (model_name, neurons):\n",
    "    model = Sequential()\n",
    "    model.add(Embedding(\n",
    "        input_dim=(len(tokenizer.word_index))+1, # +1 for the 0 padding\n",
    "        input_length=300, # Max_sentence_length (optional, for model summary)\n",
    "        output_dim=100,\n",
    "        mask_zero=True, # Built-in masking layer :)\n",
    "    ))\n",
    "    if model_name == 'lstm':\n",
    "        model.add(LSTM((neurons*2), return_sequences=False))\n",
    "        model.add(Dense((neurons), activation='relu'))\n",
    "    if model_name == 'gru':\n",
    "        model.add(GRU((neurons*2), return_sequences=False))\n",
    "        model.add(Dense((neurons), activation='relu'))\n",
    "    if model_name == 'cnn':\n",
    "        model.add(Conv1D(neurons, kernel_size=5, activation='tanh'))\n",
    "        model.add(Flatten())\n",
    "        model.add(Dense((neurons/2), activation='relu'))\n",
    "    #model.add(Dropout(rate=0.2))\n",
    "    model.add(Dense(1, activation='sigmoid'))\n",
    "    return model"
   ]
  },
  {
   "cell_type": "code",
   "execution_count": 13,
   "id": "9c80e5a1",
   "metadata": {},
   "outputs": [],
   "source": [
    "def compile_model(model):\n",
    "    model.compile(loss='binary_crossentropy',\n",
    "              optimizer=RMSprop(learning_rate=0.0001), \n",
    "              metrics=[binacc, prec, rec]) \n",
    "    return model"
   ]
  },
  {
   "cell_type": "code",
   "execution_count": 20,
   "id": "8adcd793",
   "metadata": {},
   "outputs": [
    {
     "data": {
      "image/png": "[encoded data removed]",
      "text/plain": [
       "<Figure size 640x480 with 1 Axes>"
      ]
     },
     "metadata": {},
     "output_type": "display_data"
    }
   ],
   "source": [
    "def plot_hist(X):\n",
    "    len_ = [len(_) for _ in X]\n",
    "    plt.hist(len_)\n",
    "    plt.title('Histogram of the number of sentences that have a given number of words')\n",
    "    plt.show()\n",
    "    \n",
    "plot_hist(fulldf['text'])"
   ]
  },
  {
   "cell_type": "code",
   "execution_count": 17,
   "id": "304c6765",
   "metadata": {},
   "outputs": [
    {
     "data": {
      "image/png": "[encoded data removed]",
      "text/plain": [
       "<Figure size 640x480 with 1 Axes>"
      ]
     },
     "metadata": {},
     "output_type": "display_data"
    }
   ],
   "source": [
    "def plot_hist(X):\n",
    "    len_ = [len(_) for _ in X if len(_) < 2500]\n",
    "    plt.hist(len_)\n",
    "    plt.title('Histogram of the number of sentences that have a given number of words')\n",
    "    plt.show()\n",
    "    \n",
    "plot_hist(fulldf['text'])"
   ]
  },
  {
   "cell_type": "markdown",
   "id": "59e07968",
   "metadata": {},
   "source": [
    "# Preparing data"
   ]
  },
  {
   "cell_type": "code",
   "execution_count": 18,
   "id": "477b29a1",
   "metadata": {},
   "outputs": [],
   "source": [
    "X_train, X_test, y_train, y_test = train_test_split(fulldf['text'], fulldf['target'], test_size=0.25)\n",
    "tokenizer = Tokenizer()\n",
    "tokenizer.fit_on_texts(X_train)\n",
    "X_train_token = tokenizer.texts_to_sequences(X_train)\n",
    "X_test_token = tokenizer.texts_to_sequences(X_test)\n",
    "X_train_token = pad_sequences(X_train_token, dtype='int32', padding='post', maxlen=300)\n",
    "X_test_token = pad_sequences(X_test_token, dtype='int32', padding='post', maxlen=300)"
   ]
  },
  {
   "cell_type": "markdown",
   "id": "1c00cad6",
   "metadata": {},
   "source": [
    "# Testing model"
   ]
  },
  {
   "cell_type": "code",
   "execution_count": 19,
   "id": "9c0534d1",
   "metadata": {},
   "outputs": [
    {
     "name": "stdout",
     "output_type": "stream",
     "text": [
      "Model: \"sequential\"\n",
      "_________________________________________________________________\n",
      " Layer (type)                Output Shape              Param #   \n",
      "=================================================================\n",
      " embedding (Embedding)       (None, 300, 100)          8807500   \n",
      "                                                                 \n",
      " conv1d (Conv1D)             (None, 296, 12)           6012      \n",
      "                                                                 \n",
      " flatten (Flatten)           (None, 3552)              0         \n",
      "                                                                 \n",
      " dense (Dense)               (None, 6)                 21318     \n",
      "                                                                 \n",
      " dense_1 (Dense)             (None, 1)                 7         \n",
      "                                                                 \n",
      "=================================================================\n",
      "Total params: 8,834,837\n",
      "Trainable params: 8,834,837\n",
      "Non-trainable params: 0\n",
      "_________________________________________________________________\n",
      "351/351 [==============================] - 1s 4ms/step - loss: 0.0146 - binary_accuracy: 0.9978 - precision: 0.9968 - recall: 0.9985\n"
     ]
    },
    {
     "data": {
      "image/png": "[encoded data removed]",
      "text/plain": [
       "<Figure size 1500x1000 with 4 Axes>"
      ]
     },
     "metadata": {},
     "output_type": "display_data"
    },
    {
     "name": "stdout",
     "output_type": "stream",
     "text": [
      "CPU times: user 26min 43s, sys: 2min 14s, total: 28min 57s\n",
      "Wall time: 6min 51s\n"
     ]
    }
   ],
   "source": [
    "%%time\n",
    "model = compile_model(initialize_model('cnn', 12))\n",
    "model.summary()\n",
    "history = model.fit(X_train_token, y_train, \n",
    "      epochs=50, \n",
    "      batch_size=32,\n",
    "      validation_split=0.25,\n",
    "      callbacks=[es],\n",
    "    verbose = 1, \n",
    "    use_multiprocessing=True\n",
    "      )\n",
    "model.evaluate(X_test_token, y_test, verbose=1)\n",
    "plot_loss_accuracy(history, 'cnn')"
   ]
  },
  {
   "cell_type": "markdown",
   "id": "2d2d36c9",
   "metadata": {},
   "source": [
    "# Conclusion: now we're talking!"
   ]
  }
 ],
 "metadata": {
  "kernelspec": {
   "display_name": "Python 3 (ipykernel)",
   "language": "python",
   "name": "python3"
  },
  "language_info": {
   "codemirror_mode": {
    "name": "ipython",
    "version": 3
   },
   "file_extension": ".py",
   "mimetype": "text/x-python",
   "name": "python",
   "nbconvert_exporter": "python",
   "pygments_lexer": "ipython3",
   "version": "3.8.12"
  },
  "toc": {
   "base_numbering": 1,
   "nav_menu": {},
   "number_sections": true,
   "sideBar": true,
   "skip_h1_title": false,
   "title_cell": "Table of Contents",
   "title_sidebar": "Contents",
   "toc_cell": false,
   "toc_position": {},
   "toc_section_display": true,
   "toc_window_display": true
  },
  "varInspector": {
   "cols": {
    "lenName": 16,
    "lenType": 16,
    "lenVar": 40
   },
   "kernels_config": {
    "python": {
     "delete_cmd_postfix": "",
     "delete_cmd_prefix": "del ",
     "library": "var_list.py",
     "varRefreshCmd": "print(var_dic_list())"
    },
    "r": {
     "delete_cmd_postfix": ") ",
     "delete_cmd_prefix": "rm(",
     "library": "var_list.r",
     "varRefreshCmd": "cat(var_dic_list()) "
    }
   },
   "types_to_exclude": [
    "module",
    "function",
    "builtin_function_or_method",
    "instance",
    "_Feature"
   ],
   "window_display": false
  }
 },
 "nbformat": 4,
 "nbformat_minor": 5
}
